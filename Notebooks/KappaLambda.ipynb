{
 "cells": [
  {
   "cell_type": "code",
   "execution_count": 67,
   "metadata": {},
   "outputs": [],
   "source": [
    "import numpy as np\n",
    "import pandas as pd\n",
    "import json\n",
    "import shap\n",
    "import matplotlib.pyplot as plt\n",
    "from matplotlib import rc\n",
    "from colour import Color\n",
    "from matplotlib.colors import ListedColormap, LinearSegmentedColormap\n",
    "import collections\n",
    "import pickle\n",
    "\n",
    "colors = ['#3f7f93','#da3b46','#F6AE2D', '#98b83b', '#825FC3']\n",
    "cmp_5 = LinearSegmentedColormap.from_list('my_list', [Color(c1).rgb for c1 in colors], N=len(colors))\n",
    "\n",
    "seed = 42"
   ]
  },
  {
   "cell_type": "code",
   "execution_count": 68,
   "metadata": {},
   "outputs": [],
   "source": [
    "def abs_shap(df_shap, df, shap_plot, names, class_names, cmp):\n",
    "    ''' A function to plot the bar plot for the mean abs SHAP values\n",
    "        arguments:\n",
    "            df_shap: the dataframe of the SHAP values\n",
    "            df: the dataframe for the feature values for which the SHAP values have been determined\n",
    "            shap_plot: The name of the output file for the plot\n",
    "            names: The names of the variables\n",
    "            class_names: names of the classes\n",
    "            cmp: the colour map\n",
    "    '''\n",
    "    rc('text', usetex=True)\n",
    "    plt.rcParams['text.latex.preamble'] = r\"\\usepackage{amsmath}\"\n",
    "    plt.figure(figsize=(5,5))\n",
    "    shap.summary_plot(df_shap, df, color=cmp, class_names=class_names, class_inds='original', plot_size=(5,5), show=False)#, feature_names=names)\n",
    "    ax = plt.gca()\n",
    "    handles, labels = ax.get_legend_handles_labels()\n",
    "    ax.legend(reversed(handles), reversed(labels), loc='lower right', fontsize=15)\n",
    "    plt.xlabel(r'$\\overline{|S_v|}$', fontsize=15)\n",
    "    ax = plt.gca()\n",
    "    ax.spines[\"top\"].set_visible(True)\n",
    "    ax.spines[\"right\"].set_visible(True)\n",
    "    ax.spines[\"left\"].set_visible(True)\n",
    "    vals = ax.get_xticks()\n",
    "    ax.tick_params(axis='both', which='major', labelsize=15)\n",
    "    for tick in vals:\n",
    "        ax.axvline(x=tick, linestyle='dashed', alpha=0.7, color='#808080', zorder=0, linewidth=0.5)\n",
    "    plt.tight_layout()\n",
    "    plt.savefig(shap_plot, dpi=300)\n",
    "    rc('text', usetex=False)\n",
    "    \n",
    "def get_mclass(i, df_array, weight_array, ps_exp_class, seed=seed):\n",
    "    \"\"\" This function is used to create the confusion matrix\n",
    "        arguments:\n",
    "            i: integer corresponding to the class number\n",
    "            df_array: the array of the dataframes of the different classes\n",
    "            weight_array: the array of the weights for the different classes\n",
    "            ps_exp_class: the collection of the pseudo experiment events\n",
    "            seed: the seed for the random number generator\n",
    "        returns:\n",
    "            nevents: the number of events\n",
    "            sif: the significance\n",
    "    \"\"\"\n",
    "    mclass = []\n",
    "    nchannels = len(df_array)\n",
    "    for j in range(nchannels):\n",
    "        mclass.append(collections.Counter(classifier.predict(df_array[j].iloc[:,:-2].values))[i]/len(df_array[j])*weight_array[j]/weight_array[i])\n",
    "\n",
    "    sig = np.sqrt(ps_exp_class[i])*mclass[i]/np.sum(mclass)\n",
    "    nevents = np.round(ps_exp_class[i]/np.sum(mclass)*np.array(mclass)).astype(int)\n",
    "    if nchannels == 5: print('sig: {:2.2f}, klam events: {}, hhsm events: {}, tth events: {}, bbh events: {}, bbxaa events: {}'.format(sig, nevents[4], nevents[3], nevents[2], nevents[1], nevents[0]))\n",
    "    if nchannels == 4: print('sig: {:2.2f}, hhsm events: {}, tth events: {}, bbh events: {}, bbxaa events: {}'.format(sig, nevents[3], nevents[2], nevents[1], nevents[0]))\n",
    "    if nchannels == 2: print('sig: {:2.2f}, ku events: {}, hhsm events: {}'.format(sig, nevents[1], nevents[0]))\n",
    "    return nevents, sig "
   ]
  },
  {
   "cell_type": "code",
   "execution_count": 71,
   "metadata": {},
   "outputs": [],
   "source": [
    "prefix = '../WORK/klm1/'\n",
    "\n",
    "df_sig_test = pd.read_json(prefix+'test_files/sig_test.json')\n",
    "df_bkg_test = pd.read_json(prefix+'test_files/bkg_test.json')\n",
    "df_bbh_test = pd.read_json(prefix+'test_files/bbh_test.json')\n",
    "df_tth_test = pd.read_json(prefix+'test_files/tth_test.json')\n",
    "df_bbxaa_test = pd.read_json(prefix+'test_files/bbxaa_test.json')\n",
    "\n",
    "X_shap = pd.read_json(prefix+'shapley_files/shapley_X.json')\n",
    "\n",
    "with open(prefix+'shapley_files/shapley_values.json', 'r') as f:\n",
    "    shapley_values = json.load(f)['shap_values']\n",
    "shapley_values = [np.array(elem) for elem in shapley_values]\n",
    "\n",
    "weight_sig = df_sig_test['weight'].sum()\n",
    "weight_bkg = df_bkg_test['weight'].mean()\n",
    "weight_bbh = df_bbh_test['weight'].mean()\n",
    "weight_tth = df_tth_test['weight'].mean()\n",
    "weight_bbxaa = df_bbxaa_test['weight'].mean()\n",
    "\n",
    "classifier = pickle.load(open(prefix+'hbb-BDT-5class-hhsm-klm1.csv.pickle.dat', 'rb'))\n",
    "\n",
    "with open(prefix+'test_files/weights.json', 'r') as f:\n",
    "    weights = json.load(f)"
   ]
  },
  {
   "cell_type": "code",
   "execution_count": 70,
   "metadata": {},
   "outputs": [
    {
     "data": {
      "image/png": "[encoded data removed]",
      "text/plain": [
       "<Figure size 360x360 with 1 Axes>"
      ]
     },
     "metadata": {
      "needs_background": "light"
     },
     "output_type": "display_data"
    }
   ],
   "source": [
    "class_names = [r'$bb\\gamma\\gamma$', r'$b\\bar{b}h$', r'$t\\bar{t}h$', r'$hh^{SM}$', r'$hh^{\\kappa_u}$']\n",
    "names = list(df_bbxaa_test.columns)[:-2]\n",
    "shap_plot = '../plots/shap-klm1.pdf'\n",
    "\n",
    "abs_shap(shapley_values, X_shap, shap_plot, names, class_names, cmp=cmp_5)"
   ]
  },
  {
   "cell_type": "code",
   "execution_count": 72,
   "metadata": {},
   "outputs": [
    {
     "name": "stdout",
     "output_type": "stream",
     "text": [
      "sig: 8.76, ku events: 340, hhsm events: 97, tth events: 434, bbh events: 75, bbxaa events: 566\n",
      "sig: 2.74, ku events: 372, hhsm events: 109, tth events: 408, bbh events: 83, bbxaa events: 617\n",
      "sig: 55.58, ku events: 64, hhsm events: 18, tth events: 3535, bbh events: 39, bbxaa events: 389\n",
      "sig: 14.01, ku events: 185, hhsm events: 54, tth events: 249, bbh events: 2333, bbxaa events: 24914\n",
      "sig: 297.95, ku events: 21, hhsm events: 5, tth events: 44, bbh events: 442, bbxaa events: 89282\n"
     ]
    }
   ],
   "source": [
    "df_array = [df_bbxaa_test, df_bbh_test, df_tth_test, df_bkg_test, df_sig_test]\n",
    "weight_array = [weights['weight_bbxaa']*1.5, weights['weight_bbh'], \n",
    "                weights['weight_tth']*1.2, weights['weight_bkg']*1.72, weights['weight_sig']*1.28]\n",
    "\n",
    "ps_exp_class = collections.Counter(classifier.predict(pd.concat([df_array[4].iloc[:,:-2].sample(n=round(weight_array[4]), random_state=seed, replace=True),\n",
    "                                                                 df_array[3].iloc[:,:-2].sample(n=round(weight_array[3]), random_state=seed, replace=True),\n",
    "                                                                 df_array[2].iloc[:,:-2].sample(n=round(weight_array[2]), random_state=seed, replace=True),\n",
    "                                                                 df_array[1].iloc[:,:-2].sample(n=round(weight_array[1]), random_state=seed, replace=True),\n",
    "                                                                 df_array[0].iloc[:,:-2].sample(n=round(weight_array[0]), random_state=seed, replace=True)]).values))\n",
    "\n",
    "nevents_ku, sig_ku = get_mclass(4, df_array, weight_array, ps_exp_class)\n",
    "nevents_hhsm, sig_hhsm = get_mclass(3, df_array, weight_array, ps_exp_class)\n",
    "nevents_tth, sig_tth = get_mclass(2, df_array, weight_array, ps_exp_class)\n",
    "nevents_bbh, sig_bbh = get_mclass(1, df_array, weight_array, ps_exp_class)\n",
    "nevents_bbxaa, sig_bbxaa = get_mclass(0, df_array, weight_array, ps_exp_class)\n",
    "confusion = np.column_stack((nevents_ku, nevents_hhsm, nevents_tth, nevents_bbh, nevents_bbxaa))"
   ]
  }
 ],
 "metadata": {
  "kernelspec": {
   "display_name": "Python 3",
   "language": "python",
   "name": "python3"
  },
  "language_info": {
   "codemirror_mode": {
    "name": "ipython",
    "version": 3
   },
   "file_extension": ".py",
   "mimetype": "text/x-python",
   "name": "python",
   "nbconvert_exporter": "python",
   "pygments_lexer": "ipython3",
   "version": "3.6.7"
  }
 },
 "nbformat": 4,
 "nbformat_minor": 4
}
