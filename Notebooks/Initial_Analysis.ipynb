{
 "cells": [
  {
   "cell_type": "code",
   "execution_count": 69,
   "metadata": {
    "pycharm": {
     "is_executing": false
    }
   },
   "outputs": [],
   "source": [
    "#####################################################################\n",
    "# This notebook is authored by: Ayan Paul                           #\n",
    "# Date: November 2020                                               #\n",
    "# If you use this code or the results from this work please cite:   # \n",
    "# Resurrecting bbh with kinematic shapes                            #\n",
    "# Christophe Grojean, Ayan Paul and Zuoni Qian                      #\n",
    "# arXiv:2011.13945 (https://arxiv.org/abs/2011.13945)               # \n",
    "#####################################################################\n",
    "\n",
    "import numpy as np\n",
    "import pandas as pd\n",
    "import xgboost as xgb\n",
    "from sklearn import ensemble\n",
    "import sklearn.model_selection as ms\n",
    "from sklearn import metrics\n",
    "import shap\n",
    "import matplotlib.pyplot as plt\n",
    "import seaborn as sns\n",
    "import os\n",
    "import math as m\n",
    "import collections\n",
    "import pickle\n",
    "from matplotlib.colors import ListedColormap, LinearSegmentedColormap\n",
    "from colour import Color\n",
    "from matplotlib import rc\n",
    "import sys\n",
    "\n",
    "\n",
    "# To supress warnings from shap\n",
    "if not sys.warnoptions:\n",
    "    import warnings\n",
    "    warnings.simplefilter(\"ignore\")\n",
    "\n",
    "os.environ[\"CUDA_VISIBLE_DEVICES\"] = '0'\n",
    "os.environ['TF_CPP_MIN_LOG_LEVEL'] = '1'\n",
    "N_THREADS = 88 ## Change for reducing load on CPU\n",
    "os.environ['OMP_NUM_THREADS'] = str(N_THREADS)\n",
    "seed = 42\n",
    "\n",
    "colors = ['#3f7f93','#da3b46']\n",
    "cmp_2 = LinearSegmentedColormap.from_list('my_list', [Color(c1).rgb for c1 in colors], N=len(colors))\n",
    "\n",
    "colors = ['#3f7f93','#da3b46','#98b83b']\n",
    "cmp_3 = LinearSegmentedColormap.from_list('my_list', [Color(c1).rgb for c1 in colors], N=len(colors))\n",
    "\n",
    "colors = ['#3f7f93','#da3b46','#F6AE2D', '#98b83b']\n",
    "cmp_4 = LinearSegmentedColormap.from_list('my_list', [Color(c1).rgb for c1 in colors], N=len(colors))\n",
    "\n",
    "colors = ['#3f7f93','#da3b46','#F6AE2D', '#98b83b', '#825FC3']\n",
    "cmp_5 = LinearSegmentedColormap.from_list('my_list', [Color(c1).rgb for c1 in colors], N=len(colors))"
   ]
  },
  {
   "cell_type": "markdown",
   "metadata": {},
   "source": [
    "## Helper funtion for I/O, BDT analysis and evaluation of results"
   ]
  },
  {
   "cell_type": "code",
   "execution_count": 66,
   "metadata": {
    "pycharm": {
     "is_executing": false,
     "name": "#%%\n"
    }
   },
   "outputs": [],
   "source": [
    "def fileparser(path, dlist, frac=0.5, sample=0, L=2, weights=True):\n",
    "    \"\"\" The fileparser to read the events from a csv\n",
    "        argument:\n",
    "            path: the path to the file\n",
    "            dlist: the list of variables to be excluded\n",
    "            frac: the fraction of sample that will be the test sample when sample is set to 0\n",
    "            sample: the number of events that will be the train sample.\n",
    "            L: Luminosity scaling\n",
    "        returns:\n",
    "            df_train: the training dataframe\n",
    "            df_test: the testing dataframe\n",
    "            weight: the weight (related to crosssection)\n",
    "    \"\"\"\n",
    "    df = pd.read_csv(path)\n",
    "    df.drop(columns=dlist, inplace=True)    \n",
    "    n = len(df)\n",
    "    if weights: weight = int(round(np.abs(df['weight'].sum()) * 3. * 1e6 * L)) ## The abs(mean()) is taken to make the weight of ybyt +ve\n",
    "    else: weight = int(round(np.abs(df['weight'].mean()) * 3. * 1e3 * L)) ## REMEMBER: Weight is put by hand in the root file and is just the XS in fb.\n",
    "#     df['weight'] = df['weight']/np.abs(df['weight'])\n",
    "    if sample != 0:\n",
    "        df_train = df.sample(n=sample, random_state=seed)\n",
    "        df_test = df.drop(df_train.index)\n",
    "    else :\n",
    "        df_test = df.sample(frac=frac, random_state=seed)\n",
    "        df_train = df.drop(df_test.index)\n",
    "#     df_train = df_train[(df_train.maa > 123) & (df_train.maa < 127)]\n",
    "#     df_test = df_test[(df_test.maa > 123) & (df_test.maa < 127)]\n",
    "    return df_train, df_test, weight\n",
    "\n",
    "def runBDT(df, filename='', rf=False, depth=10, sample=1, seed=seed):\n",
    "    \"\"\" The BDT/RF runner\n",
    "        argument:\n",
    "            df: the dataframe with all the events\n",
    "            filename: the name of the pickle file to store the model in\n",
    "            rf: a bolean to toggle between BDT and Random Forest classifiers\n",
    "            sample: The fraction of variables to sample\n",
    "            seed: the seed for the random number generator\n",
    "        returns:\n",
    "            classifier: the classifier\n",
    "            x_test: the features for the test set\n",
    "            y_test: the labels for the test set\n",
    "            shap_values: the SHAP values\n",
    "            X_shap: the feature set with which the shap values have been computed\n",
    "    \"\"\"\n",
    "    mshap = True if depth <= 10 else False\n",
    "    df = df.sample(frac=sample)\n",
    "    X = df.drop(columns=['class', 'weight'])\n",
    "    y = df['class'].values\n",
    "\n",
    "    # Split for training and testing\n",
    "    x_train, x_test, y_train, y_test = ms.train_test_split(X.values, y, test_size=0.2, random_state=seed)\n",
    "    eval_set = [(x_train, y_train), (x_test, y_test)]\n",
    "    \n",
    "    # Fit the decision tree\n",
    "    if rf: \n",
    "        classifier = ensemble.RandomForestClassifier(max_depth=depth, n_estimators=1000, criterion='gini', n_jobs=int(N_THREADS/2), random_state=seed)\n",
    "        classifier = classifier.fit(x_train, y_train)\n",
    "    else: \n",
    "        classifier = xgb.XGBClassifier(max_depth=depth, learning_rate=0.01, objective='multi:softprob', num_class=nchannels,\n",
    "                                         nthread=N_THREADS, subsample=0.5, colsample_bytree=1, n_estimators=5000, random_state=seed)\n",
    "        classifier = classifier.fit(x_train, y_train, early_stopping_rounds=50, eval_set=eval_set,\n",
    "                                eval_metric=[\"merror\", \"mlogloss\"], verbose=False)\n",
    "    \n",
    "    # Predictions\n",
    "    y_pred = classifier.predict(x_test)\n",
    "    print('Accuracy Score: {:4.2f}% '.format(100*metrics.accuracy_score(y_test, y_pred)))\n",
    "    if filename != '': pickle.dump(classifier, open(filename, 'wb'))\n",
    "    \n",
    "    # Calculate the SHAP scores\n",
    "    if mshap:\n",
    "        X_shap = pd.DataFrame(x_test, columns=df.drop(columns=['class', 'weight']).columns)\n",
    "        explainer = shap.TreeExplainer(classifier)\n",
    "        shap_values = explainer.shap_values(X_shap)\n",
    "    else:\n",
    "        shap_values = []\n",
    "        X_shap = pd.DataFrame()\n",
    "        \n",
    "    return classifier, x_test, y_test, shap_values, X_shap\n",
    "\n",
    "def eval_training(classifier):\n",
    "    \"\"\" Evaluate the training\n",
    "        argument:\n",
    "            classifier: the BDT classifier\n",
    "    \"\"\"\n",
    "    results = classifier.evals_result()\n",
    "    epochs = len(results['validation_0']['merror'])\n",
    "    x_axis = range(0, epochs)\n",
    "\n",
    "    # plot log loss\n",
    "    plt.figure(figsize=(12,5))\n",
    "    plt.subplot(1, 2, 1)\n",
    "    plt.plot(x_axis, results['validation_0']['mlogloss'], label='train')\n",
    "    plt.plot(x_axis, results['validation_1']['mlogloss'], label='test')\n",
    "    plt.legend()\n",
    "\n",
    "    plt.ylabel('log loss')\n",
    "    plt.title('Classifier log loss')\n",
    "    plt.grid()\n",
    "\n",
    "    # plot classification error\n",
    "    plt.subplot(1, 2, 2)\n",
    "    plt.plot(x_axis, results['validation_0']['merror'], label='train')\n",
    "    plt.plot(x_axis, results['validation_1']['merror'], label='test')\n",
    "    plt.legend()\n",
    "\n",
    "    plt.ylabel('Classification Error')\n",
    "    plt.title('Classification Error')\n",
    "    plt.grid()\n",
    "    plt.show()\n",
    "    \n",
    "def get_mclass(i, df_array, weight_array, ps_exp_class, seed=seed):\n",
    "    \"\"\" This function is used to create the confusion matrix\n",
    "        arguments:\n",
    "            i: integer corresponding to the class number\n",
    "            df_array: the array of the dataframes of the different classes\n",
    "            weight_array: the array of the weights for the different classes\n",
    "            ps_exp_class: the collection of the pseudo experiment events\n",
    "            seed: the seed for the random number generator\n",
    "        returns:\n",
    "            nevents: the number of events\n",
    "            sif: the significance\n",
    "    \"\"\"\n",
    "    mclass = []\n",
    "    for j in range(nchannels):\n",
    "        mclass.append(collections.Counter(classifier.predict(df_array[j].iloc[:,:-2].values))[i]/len(df_array[j])*weight_array[j]/weight_array[i])\n",
    "\n",
    "    sig = np.sqrt(ps_exp_class[i])*mclass[i]/np.sum(mclass)\n",
    "    nevents = np.round(ps_exp_class[i]/np.sum(mclass)*np.array(mclass)).astype(int)\n",
    "    if nchannels == 5: print('sig: {:2.2f}, ku events: {}, hhsm events: {}, tth events: {}, bbh events: {}, bbxaa events: {}'.format(sig, nevents[4], nevents[3], nevents[2], nevents[1], nevents[0]))\n",
    "    if nchannels == 4: print('sig: {:2.2f}, hhsm events: {}, tth events: {}, bbh events: {}, bbxaa events: {}'.format(sig, nevents[3], nevents[2], nevents[1], nevents[0]))\n",
    "    if nchannels == 2: print('sig: {:2.2f}, ku events: {}, hhsm events: {}'.format(sig, nevents[1], nevents[0]))\n",
    "    return nevents, sig \n",
    "\n",
    "\n",
    "def abs_shap(df_shap, df, shap_plot, names, class_names, cmp):\n",
    "    ''' A function to plot the bar plot for the mean abs SHAP values\n",
    "        arguments:\n",
    "            df_shap: the dataframe of the SHAP values\n",
    "            df: the dataframe for the feature values for which the SHAP values have been determined\n",
    "            shap_plot: The name of the output file for the plot\n",
    "            names: The names of the variables\n",
    "            class_names: names of the classes\n",
    "            cmp: the colour map\n",
    "    '''\n",
    "    rc('text', usetex=True)\n",
    "    plt.rcParams['text.latex.preamble'] = r\"\\usepackage{amsmath}\"\n",
    "    plt.figure(figsize=(5,5))\n",
    "    shap.summary_plot(df_shap, df, color=cmp, class_names=class_names, class_inds='original', plot_size=(5,5), show=False)#, feature_names=names)\n",
    "    ax = plt.gca()\n",
    "    handles, labels = ax.get_legend_handles_labels()\n",
    "    ax.legend(reversed(handles), reversed(labels), loc='lower right', fontsize=15)\n",
    "    plt.xlabel(r'$\\overline{|S_v|}$', fontsize=15)\n",
    "    ax = plt.gca()\n",
    "    ax.spines[\"top\"].set_visible(True)\n",
    "    ax.spines[\"right\"].set_visible(True)\n",
    "    ax.spines[\"left\"].set_visible(True)\n",
    "    vals = ax.get_xticks()\n",
    "    ax.tick_params(axis='both', which='major', labelsize=15)\n",
    "    for tick in vals:\n",
    "        ax.axvline(x=tick, linestyle='dashed', alpha=0.7, color='#808080', zorder=0, linewidth=0.5)\n",
    "    plt.tight_layout()\n",
    "    plt.savefig(shap_plot, dpi=300)\n",
    "    rc('text', usetex=False)\n",
    "    \n",
    "#define a function to convert logodds to probability for multi-class \n",
    "def logodds_to_proba(logodds):\n",
    "    return np.exp(logodds)/np.exp(logodds).sum()"
   ]
  },
  {
   "cell_type": "markdown",
   "metadata": {},
   "source": [
    "## 14 TeV Analysis"
   ]
  },
  {
   "cell_type": "markdown",
   "metadata": {},
   "source": [
    "### Load the data"
   ]
  },
  {
   "cell_type": "code",
   "execution_count": 103,
   "metadata": {
    "pycharm": {
     "is_executing": false,
     "name": "#%%\n"
    }
   },
   "outputs": [
    {
     "name": "stdout",
     "output_type": "stream",
     "text": [
      "No. of hhsm events: train = 40000, test = 8436\n",
      "No. of ku events: train = 40000, test = 37882\n",
      "No. of tth events: train = 20000, test = 37848\n",
      "No. of bbh events: train = 100260, test = 132808\n",
      "No. of bbxaa events: train = 100000, test = 37488\n"
     ]
    }
   ],
   "source": [
    "# dlist = ['dphibb', 'etaaa', 'ptb2', 'drbamin', 'etaa2', 'etab1', 'etaa1', 'nbjet', 'etab2']\n",
    "# dlist = ['etaaa', 'ptb2', 'drbamin', 'etaa2', 'etab1', 'etaa1', 'mbbh', 'met', 'drbamin', 'njjet', 'etab2']\n",
    "# dlist = ['ptb2', 'etaaa', 'etaa1', 'met', 'pta1', 'etab1', 'etaa2', 'dphibb', 'dphiba1', 'etab2']\n",
    "# dlist = ['ptb2', 'etab2', 'nbjet', 'etaaa', 'dphibb', 'drba1', 'etaa1', 'etab1']\n",
    "# dlist = ['ptb2', 'etab2', 'nbjet', 'etaaa', 'dphibb', 'drba1', 'etaa1', 'etab1', 'dphiba1', 'etaa2', 'mb1h', 'mbbh', 'drbamin', 'pta2']\n",
    "dlist = ['ptb2', 'etab2', 'nbjet', 'etaaa', 'dphibb', 'drba1', 'etaa1', 'etab1', 'dphiba1', 'drbamin', 'pta2']\n",
    "# names = [r'$n_{jet}$', r'$p_T^{b_1}$', r'$p_T^{\\gamma_1}$', r'$p_T^{\\gamma_2}$', r'$p_T^{\\gamma\\gamma}$', r'$m_{bb}$', r'$m_{\\gamma\\gamma}$', r'$m_{b_1h}$', r'$m_{bbh}$',\n",
    "#            r'$H_T$', r'$\\delta R_{b\\gamma_1}$', r'$\\delta\\phi_{b\\gamma_1}$']\n",
    "\n",
    "# 14 TeV\n",
    "df_hhsm, df_hhsm_test, weight_hhsm = fileparser(\"../simulations/HL-LHC/hhsm.csv\", dlist, sample=40000, weights=True)\n",
    "weight_hhsm = int(round(weight_hhsm/1000)) # Lina's Spaghetti\n",
    "df_ku_1, df_ku_test_1, weight_ku = fileparser(\"../simulations/HL-LHC/ku-1.csv\", dlist, sample=20000, weights=True)\n",
    "df_ku_2, df_ku_test_2, weight_ku = fileparser(\"../simulations/HL-LHC/ku-2.csv\", dlist, sample=20000, weights=True)\n",
    "weight_ku = int(round(weight_ku/1000)) # Lina's Spaghetti\n",
    "df_tth, df_tth_test, weight_tth = fileparser(\"../simulations/HL-LHC/tth.csv\", dlist, sample=20000, weights=False)\n",
    "df_yb2, df_yb2_test, weight_yb2 = fileparser(\"../simulations/HL-LHC/yb2.csv\", dlist, sample=3890*6)\n",
    "df_ybyt, df_ybyt_test, weight_ybyt = fileparser(\"../simulations/HL-LHC/ybyt.csv\", dlist, sample=500*6)\n",
    "df_yt2, df_yt2_test, weight_yt2 = fileparser(\"../simulations/HL-LHC/yt2.csv\", dlist, sample=7360*6)\n",
    "df_zh, df_zh_test, weight_zh = fileparser(\"../simulations/HL-LHC/zh.csv\", dlist, sample=4960*6)\n",
    "\n",
    "df_bbh = pd.concat([df_yb2, df_ybyt, df_yt2, df_zh])\n",
    "df_bbh_test = pd.concat([df_yb2_test, df_ybyt_test, df_yt2_test, df_zh_test])\n",
    "df_bbh_test = df_bbh_test.sample(frac=0.5).reset_index(drop=True)\n",
    "df_bbh['class'] = 1\n",
    "df_bbh_test['class'] = 1\n",
    "weight_bbh = int(weight_yb2*1.5 - weight_ybyt*1.9 + weight_yt2*2.5 + weight_zh*1.3)\n",
    "\n",
    "df_bbxaa, df_bbxaa_test, weight_bbxaa = fileparser(\"../simulations/HL-LHC/bbxaa.csv\", dlist, sample=100000)\n",
    "\n",
    "df_hhsm['class'] = 3 # voodoo to fix the class for hhsm from 5\n",
    "df_hhsm_test['class'] = 3 # voodoo to fix the class for hhsm from 5\n",
    "\n",
    "names = list(df_bbxaa.columns)[:-2]\n",
    "\n",
    "df_ku = pd.concat([df_ku_1, df_ku_2])\n",
    "df_ku_test = pd.concat([df_ku_test_1, df_ku_test_2])\n",
    "\n",
    "print(\"No. of hhsm events: train = {}, test = {}\".format(df_hhsm.shape[0],df_hhsm_test.shape[0]))\n",
    "print(\"No. of ku events: train = {}, test = {}\".format(df_ku.shape[0],df_ku_test.shape[0]))\n",
    "print(\"No. of tth events: train = {}, test = {}\".format(df_tth.shape[0],df_tth_test.shape[0]))\n",
    "print(\"No. of bbh events: train = {}, test = {}\".format(df_bbh.shape[0],df_bbh_test.shape[0]))\n",
    "print(\"No. of bbxaa events: train = {}, test = {}\".format(df_bbxaa.shape[0],df_bbxaa_test.shape[0]))"
   ]
  },
  {
   "cell_type": "markdown",
   "metadata": {},
   "source": [
    "## The hh SM analysis\n",
    "\n",
    "- Add the two datasets\n",
    "- Run the BDT and make the SHAP plot\n",
    "- Check the accuracy of the classifier\n",
    "- make the discriminator plot"
   ]
  },
  {
   "cell_type": "code",
   "execution_count": 104,
   "metadata": {},
   "outputs": [],
   "source": [
    "channels = [df_hhsm, df_bbh, df_tth, df_bbxaa]\n",
    "nchannels = len(channels)\n",
    "df_train = pd.concat(channels, ignore_index=True)\n",
    "df_train = df_train.sample(frac=1).reset_index(drop=True)"
   ]
  },
  {
   "cell_type": "code",
   "execution_count": 105,
   "metadata": {
    "pycharm": {
     "is_executing": false,
     "name": "#%%\n"
    }
   },
   "outputs": [
    {
     "name": "stdout",
     "output_type": "stream",
     "text": [
      "Accuracy Score: 77.83% \n"
     ]
    },
    {
     "data": {
      "image/png": "[encoded data removed]",
      "text/plain": [
       "<Figure size 360x360 with 1 Axes>"
      ]
     },
     "metadata": {
      "needs_background": "light"
     },
     "output_type": "display_data"
    }
   ],
   "source": [
    "class_names = [r'$bb\\gamma\\gamma$', r'$b\\bar{b}h$', r'$t\\bar{t}h$', r'$hh^{SM}$']\n",
    "filename = 'models/HL-LHC-BDT/hbb-BDT-4class-hhsm-1btag.pickle.dat' ## The pickle model store if necessary.\n",
    "shap_plot = '../plots/shap-bbxaa-bbh-tth-hhsm.pdf'\n",
    "\n",
    "classifier, x_test, y_test, shap_values_4, X_shap_4 = runBDT(df_train, filename)\n",
    "abs_shap(shap_values_4, X_shap_4, shap_plot, names=names, class_names=class_names, cmp=cmp_4)"
   ]
  },
  {
   "cell_type": "code",
   "execution_count": 106,
   "metadata": {
    "pycharm": {
     "is_executing": false,
     "name": "#%%\n"
    }
   },
   "outputs": [
    {
     "name": "stdout",
     "output_type": "stream",
     "text": [
      "Accuracy Score for hhsm: 72.07% \n",
      "Accuracy Score for tth: 80.64% \n",
      "Accuracy Score for bbh: 79.36% \n",
      "Accuracy Score for bbxaa: 76.99% \n"
     ]
    },
    {
     "data": {
      "image/png": "[encoded data removed]",
      "text/plain": [
       "<Figure size 432x288 with 1 Axes>"
      ]
     },
     "metadata": {
      "needs_background": "light"
     },
     "output_type": "display_data"
    }
   ],
   "source": [
    "disc = 3\n",
    "enc=1\n",
    "hhsm_p = pd.DataFrame(classifier.predict_proba(df_hhsm_test.drop(columns=['class', 'weight']).values)[:,disc])\n",
    "print('Accuracy Score for hhsm: {:4.2f}% '.format(100*metrics.accuracy_score(df_hhsm_test['class'].values, classifier.predict(df_hhsm_test.drop(columns=['class', 'weight']).values))))\n",
    "hhsm_p['weight'] = df_hhsm_test['weight'].values\n",
    "\n",
    "tth_p = pd.DataFrame(classifier.predict_proba(df_tth_test.drop(columns=['class', 'weight']).values)[:,disc])\n",
    "print('Accuracy Score for tth: {:4.2f}% '.format(100*metrics.accuracy_score(df_tth_test['class'].values, classifier.predict(df_tth_test.drop(columns=['class', 'weight']).values))))\n",
    "tth_p['weight'] = df_tth_test['weight'].values\n",
    "\n",
    "bbh_p = pd.DataFrame(classifier.predict_proba(df_bbh_test.drop(columns=['class', 'weight']).values)[:,disc])\n",
    "print('Accuracy Score for bbh: {:4.2f}% '.format(100*metrics.accuracy_score(df_bbh_test['class'].values, classifier.predict(df_bbh_test.drop(columns=['class', 'weight']).values))))\n",
    "bbh_p['weight'] = df_bbh_test['weight'].values\n",
    "\n",
    "bbxaa_p = pd.DataFrame(classifier.predict_proba(df_bbxaa_test.drop(columns=['class', 'weight']).values)[:,disc])\n",
    "print('Accuracy Score for bbxaa: {:4.2f}% '.format(100*metrics.accuracy_score(df_bbxaa_test['class'].values, classifier.predict(df_bbxaa_test.drop(columns=['class', 'weight']).values))))\n",
    "bbxaa_p['weight'] = df_bbxaa_test['weight'].values\n",
    "\n",
    "hhsm_pred = hhsm_p.sample(n=round(weight_hhsm*1.72*enc), replace=True, random_state=seed).reset_index(drop=True)\n",
    "tth_pred = tth_p.sample(n=round(weight_tth*1.2*enc), replace=True, random_state=seed).reset_index(drop=True)\n",
    "bbh_pred = bbh_p.sample(n=round(weight_bbh*enc), replace=True, random_state=seed).reset_index(drop=True)\n",
    "bbxaa_pred = bbxaa_p.sample(n=round(weight_bbxaa*1.5*enc), replace=True, random_state=seed).reset_index(drop=True)\n",
    "\n",
    "plt.figure(figsize=(6,4))\n",
    "rc('text', usetex=True)\n",
    "plt.rcParams['text.latex.preamble'] = [r\"\\usepackage{amsmath}\"]\n",
    "sns.distplot(hhsm_pred[0], kde=False, bins=np.arange(0, 1 + 0.04, 0.04),\n",
    "             hist_kws={'alpha': 0.8, 'histtype': 'step', 'linewidth': 3, 'weights': [1/enc]*len(hhsm_pred[0])}, label=r'$hh^{SM}$', color='#98b83b')\n",
    "sns.distplot(tth_pred[0], kde=False, bins=np.arange(0, 1 + 0.04, 0.04),\n",
    "             hist_kws={'alpha': 0.8, 'histtype': 'step', 'linewidth': 3, 'weights': [1/enc]*len(tth_pred[0])}, label=r'$t\\bar{t}h$', color='#F6AE2D')\n",
    "sns.distplot(bbh_pred[0], kde=False, bins=np.arange(0, 1 + 0.04, 0.04),\n",
    "             hist_kws={'alpha': 0.8, 'histtype': 'step', 'linewidth': 3, 'weights': [1/enc]*len(bbh_pred[0])}, label=r'$b\\bar{b}h$', color='#da3b46')\n",
    "sns.distplot(bbxaa_pred[0], kde=False, bins=np.arange(0, 1 + 0.04, 0.04),\n",
    "             hist_kws={'alpha': 0.8, 'histtype': 'step', 'linewidth': 3, 'weights': [1/enc]*len(bbxaa_pred[0])}, label=r'$bb\\gamma\\gamma$', color='#3f7f93')\n",
    "plt.legend(loc='upper center', fontsize=14)\n",
    "plt.grid(linestyle='dashed', alpha=0.4, color='#808080')\n",
    "ax = plt.gca()\n",
    "ax.tick_params(axis='both', which='major', labelsize=14)\n",
    "plt.xlabel(r'$p(hh^{SM})$', fontsize=14)\n",
    "plt.ylabel(r'$N$', fontsize=14)\n",
    "plt.yscale('log')\n",
    "plt.tight_layout()\n",
    "plt.savefig('../plots/bbxaa-bbh-hhsm-BDT-dist.pdf', dpi=300)"
   ]
  },
  {
   "cell_type": "code",
   "execution_count": 107,
   "metadata": {},
   "outputs": [
    {
     "name": "stdout",
     "output_type": "stream",
     "text": [
      "sig: 5.51, hhsm events: 212, tth events: 63, bbh events: 157, bbxaa events: 1051\n",
      "sig: 11.79, hhsm events: 15, tth events: 324, bbh events: 22, bbxaa events: 393\n",
      "sig: 14.20, hhsm events: 59, tth events: 13, bbh events: 2363, bbxaa events: 25271\n",
      "sig: 297.68, hhsm events: 5, tth events: 5, bbh events: 439, bbxaa events: 89062\n"
     ]
    }
   ],
   "source": [
    "df_array = [df_bbxaa_test, df_bbh_test, df_tth_test, df_hhsm_test]\n",
    "weight_array = [weight_bbxaa*1.5, weight_bbh, weight_tth*1.2, weight_hhsm*1.72]\n",
    "\n",
    "ps_exp_class = collections.Counter(classifier.predict(pd.concat([df_array[3].iloc[:,:-2].sample(n=round(weight_array[3]), random_state=seed, replace=True),\n",
    "                                                                 df_array[2].iloc[:,:-2].sample(n=round(weight_array[2]), random_state=seed, replace=True),\n",
    "                                                                 df_array[1].iloc[:,:-2].sample(n=round(weight_array[1]), random_state=seed, replace=True),\n",
    "                                                                 df_array[0].iloc[:,:-2].sample(n=round(weight_array[0]), random_state=seed, replace=True)]).values))\n",
    "\n",
    "nevents_hhsm, sig_hhsm = get_mclass(3, df_array, weight_array, ps_exp_class)\n",
    "nevents_tth, sig_tth = get_mclass(2, df_array, weight_array, ps_exp_class)\n",
    "nevents_bbh, sig_bbh = get_mclass(1, df_array, weight_array, ps_exp_class)\n",
    "nevents_bbxaa, sig_bbxaa = get_mclass(0, df_array, weight_array, ps_exp_class)\n",
    "confusion = np.column_stack((nevents_hhsm, nevents_tth, nevents_bbh, nevents_bbxaa))"
   ]
  },
  {
   "cell_type": "markdown",
   "metadata": {},
   "source": [
    "#### The Confusion Matrix, total events count for each channel and the signal significance"
   ]
  },
  {
   "cell_type": "code",
   "execution_count": 108,
   "metadata": {},
   "outputs": [
    {
     "name": "stdout",
     "output_type": "stream",
     "text": [
      "\\begin{tabular}{lrrrrr}\n",
      "\\toprule\n",
      "{} &    $hh^{SM}$ &  $t\\bar{t}h$ &   $b\\bar{b}h$ &  $bb\\gamma\\gamma$ &     total \\\\\n",
      "\\midrule\n",
      "$hh^{SM}$        &   212.000000 &    15.000000 &     59.000000 &          5.000000 &     291.0 \\\\\n",
      "$t\\bar{t}h$      &    63.000000 &   324.000000 &     13.000000 &          5.000000 &     405.0 \\\\\n",
      "$b\\bar{b}h$      &   157.000000 &    22.000000 &   2363.000000 &        439.000000 &    2981.0 \\\\\n",
      "$bb\\gamma\\gamma$ &  1051.000000 &   393.000000 &  25271.000000 &      89062.000000 &  115777.0 \\\\\n",
      "$\\sigma$         &     5.505101 &    11.799384 &     14.196354 &        297.683141 &       0.0 \\\\\n",
      "\\bottomrule\n",
      "\\end{tabular}\n",
      "\n"
     ]
    }
   ],
   "source": [
    "confusion_tot = np.round(np.array([confusion[3], confusion[2], confusion[1], confusion[0]])).astype(int)\n",
    "event_total = np.array([[np.sum(confusion_tot[i])] for i in range(confusion_tot.shape[0])])\n",
    "significance = np.append(np.array([np.abs(confusion_tot[i,i])/np.sqrt(np.sum(confusion_tot[:,i])) for i in range(confusion_tot.shape[0])]), 0)\n",
    "confusion_tab = np.vstack((np.append(confusion_tot, event_total, axis=1), significance))\n",
    "    \n",
    "df_conf = pd.DataFrame(confusion_tab, [r'$hh^{SM}$', r'$t\\bar{t}h$', r'$b\\bar{b}h$', r'$bb\\gamma\\gamma$', r'$\\sigma$'])\n",
    "df_conf.columns = [r'$hh^{SM}$', r'$t\\bar{t}h$', r'$b\\bar{b}h$', r'$bb\\gamma\\gamma$', 'total']\n",
    "print(df_conf.to_latex(escape=False))"
   ]
  },
  {
   "cell_type": "markdown",
   "metadata": {},
   "source": [
    "## The BSM vs. SM analysis\n",
    "\n",
    "- Add the two datasets\n",
    "- Run the BDT and make the SHAP plot\n",
    "- Check the accuracy of the classifier\n",
    "- make the discriminator plot"
   ]
  },
  {
   "cell_type": "code",
   "execution_count": 109,
   "metadata": {},
   "outputs": [],
   "source": [
    "df_hhsm['class'] = 0\n",
    "df_hhsm_test['class'] = 0\n",
    "df_ku['class'] = 1\n",
    "df_ku_test['class'] = 1\n",
    "\n",
    "channels = [df_hhsm, df_ku]\n",
    "nchannels = len(channels)\n",
    "df_train = pd.concat(channels, ignore_index=True)\n",
    "df_train = df_train.sample(frac=1).reset_index(drop=True)"
   ]
  },
  {
   "cell_type": "code",
   "execution_count": 110,
   "metadata": {
    "pycharm": {
     "is_executing": false,
     "name": "#%%\n"
    }
   },
   "outputs": [
    {
     "name": "stdout",
     "output_type": "stream",
     "text": [
      "Accuracy Score: 68.08% \n"
     ]
    },
    {
     "data": {
      "image/png": "[encoded data removed]",
      "text/plain": [
       "<Figure size 360x360 with 1 Axes>"
      ]
     },
     "metadata": {
      "needs_background": "light"
     },
     "output_type": "display_data"
    }
   ],
   "source": [
    "class_names = [r'$hh^{SM}$', r'$\\kappa_u$']\n",
    "filename = 'models/HL-LHC-BDT/hbb-BDT-2class-1btag-kappau.pickle.dat' ## The pickle model store if necessary.\n",
    "shap_plot = '../plots/shap-kappad.pdf'\n",
    "\n",
    "classifier, x_test, y_test, shap_values_2, X_shap_2 = runBDT(df_train, filename)\n",
    "abs_shap(shap_values_2, X_shap_2, shap_plot, names=names, class_names=class_names, cmp=cmp_2)"
   ]
  },
  {
   "cell_type": "code",
   "execution_count": 111,
   "metadata": {
    "pycharm": {
     "is_executing": false,
     "name": "#%%\n"
    }
   },
   "outputs": [
    {
     "name": "stdout",
     "output_type": "stream",
     "text": [
      "Accuracy Score: 67.71% \n"
     ]
    }
   ],
   "source": [
    "classifier = pickle.load(open('models/HL-LHC-BDT/hbb-BDT-2class-1btag-kappau.pickle.dat', 'rb')) ## If model is stored\n",
    "comb_test = pd.concat([df_hhsm_test.iloc[:,:-1].sample(n=20000, random_state=seed, replace=True), df_ku_test.iloc[:,:-1].sample(n=20000, random_state=seed, replace=True)])\n",
    "print('Accuracy Score: {:4.2f}% '.format(100*metrics.accuracy_score(comb_test['class'].values, classifier.predict(comb_test.drop(columns=['class']).values))))"
   ]
  },
  {
   "cell_type": "code",
   "execution_count": 112,
   "metadata": {
    "pycharm": {
     "is_executing": false,
     "name": "#%%\n"
    }
   },
   "outputs": [
    {
     "name": "stdout",
     "output_type": "stream",
     "text": [
      "Accuracy Score for kd: 59.12% \n",
      "Accuracy Score for hhsm: 76.53% \n"
     ]
    },
    {
     "data": {
      "image/png": "[encoded data removed]",
      "text/plain": [
       "<Figure size 432x288 with 1 Axes>"
      ]
     },
     "metadata": {
      "needs_background": "light"
     },
     "output_type": "display_data"
    }
   ],
   "source": [
    "disc = 1\n",
    "enc=100\n",
    "ku_p = pd.DataFrame(classifier.predict_proba(df_ku_test.drop(columns=['class', 'weight']).values)[:,disc])\n",
    "print('Accuracy Score for kd: {:4.2f}% '.format(100*metrics.accuracy_score(df_ku_test['class'].values, classifier.predict(df_ku_test.drop(columns=['class', 'weight']).values))))\n",
    "ku_p['weight'] = df_ku_test['weight'].values\n",
    "\n",
    "hhsm_p = pd.DataFrame(classifier.predict_proba(df_hhsm_test.drop(columns=['class', 'weight']).values)[:,disc])\n",
    "print('Accuracy Score for hhsm: {:4.2f}% '.format(100*metrics.accuracy_score(df_hhsm_test['class'].values, classifier.predict(df_hhsm_test.drop(columns=['class', 'weight']).values))))\n",
    "hhsm_p['weight'] = df_hhsm_test['weight'].values\n",
    "\n",
    "ku_pred = ku_p.sample(n=round(weight_ku*1.28*enc), replace=True, random_state=seed).reset_index(drop=True)\n",
    "hhsm_pred = hhsm_p.sample(n=round(weight_hhsm*1.72*enc), replace=True, random_state=seed).reset_index(drop=True)\n",
    "\n",
    "plt.figure(figsize=(6,4))\n",
    "rc('text', usetex=True)\n",
    "plt.rcParams['text.latex.preamble'] = [r\"\\usepackage{amsmath}\"]\n",
    "sns.distplot(ku_pred[0], kde=False, bins=np.arange(0, 1 + 0.04, 0.04),\n",
    "             hist_kws={'alpha': 0.8, 'histtype': 'step', 'linewidth': 3, 'weights': [1/enc]*len(ku_pred[0])}, label=r'$\\kappa_u$', color='#da3b46')\n",
    "sns.distplot(hhsm_pred[0], kde=False, bins=np.arange(0, 1 + 0.04, 0.04),\n",
    "             hist_kws={'alpha': 0.8, 'histtype': 'step', 'linewidth': 3, 'weights': [1/enc]*len(hhsm_pred[0])}, label=r'$hh^{SM}$', color='#3f7f93')\n",
    "plt.legend(loc='lower center', fontsize=14)\n",
    "plt.grid(linestyle='dashed', alpha=0.4, color='#808080')\n",
    "ax = plt.gca()\n",
    "ax.tick_params(axis='both', which='major', labelsize=14)\n",
    "plt.xlabel(r'$p(y_b^2)$', fontsize=14)\n",
    "plt.ylabel(r'$N$', fontsize=14)\n",
    "# plt.yscale('log')\n",
    "plt.tight_layout()\n",
    "plt.savefig('../plots/hhsm-kd-BDT-dist.pdf', dpi=300)"
   ]
  },
  {
   "cell_type": "code",
   "execution_count": 113,
   "metadata": {},
   "outputs": [
    {
     "name": "stdout",
     "output_type": "stream",
     "text": [
      "sig: 5.76, ku events: 67, hhsm events: 70\n",
      "sig: 13.27, ku events: 44, hhsm events: 212\n"
     ]
    }
   ],
   "source": [
    "df_array = [df_hhsm_test, df_ku_test]\n",
    "weight_array = [weight_hhsm*1.72, weight_ku*1.28/3]\n",
    "\n",
    "ps_exp_class = collections.Counter(classifier.predict(pd.concat([df_array[1].iloc[:,:-2].sample(n=round(weight_array[1]), random_state=seed),\n",
    "                                                                 df_array[0].iloc[:,:-2].sample(n=round(weight_array[0]), random_state=seed,)]).values))\n",
    "\n",
    "nevents_ku, sig_ku = get_mclass(1, df_array, weight_array, ps_exp_class)\n",
    "nevents_hhsm, sig_hhsm = get_mclass(0, df_array, weight_array, ps_exp_class)\n",
    "confusion = np.column_stack((nevents_ku, nevents_hhsm))"
   ]
  },
  {
   "cell_type": "markdown",
   "metadata": {},
   "source": [
    "## The hh NP analysis\n",
    "\n",
    "- Add the two datasets\n",
    "- Run the BDT and make the SHAP plot\n",
    "- Check the accuracy of the classifier\n",
    "- make the discriminator plot"
   ]
  },
  {
   "cell_type": "code",
   "execution_count": 114,
   "metadata": {},
   "outputs": [],
   "source": [
    "df_hhsm['class'] = 3\n",
    "df_hhsm_test['class'] = 3\n",
    "df_ku['class'] = 4\n",
    "df_ku_test['class'] = 4\n",
    "\n",
    "channels = [df_hhsm, df_bbh, df_tth, df_bbxaa, df_ku]\n",
    "nchannels = len(channels)\n",
    "df_train = pd.concat(channels, ignore_index=True)\n",
    "df_train = df_train.sample(frac=1).reset_index(drop=True)"
   ]
  },
  {
   "cell_type": "code",
   "execution_count": 115,
   "metadata": {
    "pycharm": {
     "is_executing": false,
     "name": "#%%\n"
    }
   },
   "outputs": [
    {
     "name": "stdout",
     "output_type": "stream",
     "text": [
      "Accuracy Score: 70.18% \n"
     ]
    },
    {
     "data": {
      "image/png": "[encoded data removed]",
      "text/plain": [
       "<Figure size 360x360 with 1 Axes>"
      ]
     },
     "metadata": {
      "needs_background": "light"
     },
     "output_type": "display_data"
    }
   ],
   "source": [
    "class_names = [r'$bb\\gamma\\gamma$', r'$b\\bar{b}h$', r'$t\\bar{t}h$', r'$hh^{SM}$', r'$hh^{\\kappa_u}$']\n",
    "filename = 'models/HL-LHC-BDT/hbb-BDT-4class-hhsm-ku-1btag.pickle.dat' ## The pickle model store if necessary.\n",
    "shap_plot = '../plots/shap-bbxaa-bbh-tth-hhsm-ku.pdf'\n",
    "\n",
    "classifier, x_test, y_test, shap_values_5, X_shap_5 = runBDT(df_train, filename)\n",
    "abs_shap(shap_values_5, X_shap_5, shap_plot, names=names, class_names=class_names, cmp=cmp_5)"
   ]
  },
  {
   "cell_type": "code",
   "execution_count": 116,
   "metadata": {
    "pycharm": {
     "is_executing": false,
     "name": "#%%\n"
    }
   },
   "outputs": [
    {
     "name": "stdout",
     "output_type": "stream",
     "text": [
      "Accuracy Score for ku: 38.20% \n",
      "Accuracy Score for hhsm: 60.66% \n",
      "Accuracy Score for tth: 78.48% \n",
      "Accuracy Score for bbh: 77.56% \n",
      "Accuracy Score for bbxaa: 77.01% \n"
     ]
    },
    {
     "data": {
      "image/png": "[encoded data removed]",
      "text/plain": [
       "<Figure size 432x288 with 1 Axes>"
      ]
     },
     "metadata": {
      "needs_background": "light"
     },
     "output_type": "display_data"
    }
   ],
   "source": [
    "disc = 4\n",
    "enc=1\n",
    "\n",
    "ku_p = pd.DataFrame(classifier.predict_proba(df_ku_test.drop(columns=['class', 'weight']).values)[:,disc])\n",
    "print('Accuracy Score for ku: {:4.2f}% '.format(100*metrics.accuracy_score(df_ku_test['class'].values, classifier.predict(df_ku_test.drop(columns=['class', 'weight']).values))))\n",
    "ku_p['weight'] = df_ku_test['weight'].values\n",
    "\n",
    "hhsm_p = pd.DataFrame(classifier.predict_proba(df_hhsm_test.drop(columns=['class', 'weight']).values)[:,disc])\n",
    "print('Accuracy Score for hhsm: {:4.2f}% '.format(100*metrics.accuracy_score(df_hhsm_test['class'].values, classifier.predict(df_hhsm_test.drop(columns=['class', 'weight']).values))))\n",
    "hhsm_p['weight'] = df_hhsm_test['weight'].values\n",
    "\n",
    "tth_p = pd.DataFrame(classifier.predict_proba(df_tth_test.drop(columns=['class', 'weight']).values)[:,disc])\n",
    "print('Accuracy Score for tth: {:4.2f}% '.format(100*metrics.accuracy_score(df_tth_test['class'].values, classifier.predict(df_tth_test.drop(columns=['class', 'weight']).values))))\n",
    "tth_p['weight'] = df_tth_test['weight'].values\n",
    "\n",
    "bbh_p = pd.DataFrame(classifier.predict_proba(df_bbh_test.drop(columns=['class', 'weight']).values)[:,disc])\n",
    "print('Accuracy Score for bbh: {:4.2f}% '.format(100*metrics.accuracy_score(df_bbh_test['class'].values, classifier.predict(df_bbh_test.drop(columns=['class', 'weight']).values))))\n",
    "bbh_p['weight'] = df_bbh_test['weight'].values\n",
    "\n",
    "bbxaa_p = pd.DataFrame(classifier.predict_proba(df_bbxaa_test.drop(columns=['class', 'weight']).values)[:,disc])\n",
    "print('Accuracy Score for bbxaa: {:4.2f}% '.format(100*metrics.accuracy_score(df_bbxaa_test['class'].values, classifier.predict(df_bbxaa_test.drop(columns=['class', 'weight']).values))))\n",
    "bbxaa_p['weight'] = df_bbxaa_test['weight'].values\n",
    "\n",
    "ku_pred = ku_p.sample(n=round(weight_ku*1.72*enc), replace=True, random_state=seed).reset_index(drop=True)\n",
    "hhsm_pred = hhsm_p.sample(n=round(weight_hhsm*1.72*enc), replace=True, random_state=seed).reset_index(drop=True)\n",
    "tth_pred = tth_p.sample(n=round(weight_tth*1.2*enc), replace=True, random_state=seed).reset_index(drop=True)\n",
    "bbh_pred = bbh_p.sample(n=round(weight_bbh*enc), replace=True, random_state=seed).reset_index(drop=True)\n",
    "bbxaa_pred = bbxaa_p.sample(n=round(weight_bbxaa*1.5*enc), replace=True, random_state=seed).reset_index(drop=True)\n",
    "\n",
    "plt.figure(figsize=(6,4))\n",
    "rc('text', usetex=True)\n",
    "plt.rcParams['text.latex.preamble'] = [r\"\\usepackage{amsmath}\"]\n",
    "sns.distplot(ku_pred[0], kde=False, bins=np.arange(0, 1 + 0.04, 0.04),\n",
    "             hist_kws={'alpha': 0.8, 'histtype': 'step', 'linewidth': 3, 'weights': [1/enc]*len(ku_pred[0])}, label=r'$hh^{\\kappa_u}$', color='#825FC3')\n",
    "sns.distplot(hhsm_pred[0], kde=False, bins=np.arange(0, 1 + 0.04, 0.04),\n",
    "             hist_kws={'alpha': 0.8, 'histtype': 'step', 'linewidth': 3, 'weights': [1/enc]*len(hhsm_pred[0])}, label=r'$hh^{SM}$', color='#98b83b')\n",
    "sns.distplot(tth_pred[0], kde=False, bins=np.arange(0, 1 + 0.04, 0.04),\n",
    "             hist_kws={'alpha': 0.8, 'histtype': 'step', 'linewidth': 3, 'weights': [1/enc]*len(tth_pred[0])}, label=r'$t\\bar{t}h$', color='#F6AE2D')\n",
    "sns.distplot(bbh_pred[0], kde=False, bins=np.arange(0, 1 + 0.04, 0.04),\n",
    "             hist_kws={'alpha': 0.8, 'histtype': 'step', 'linewidth': 3, 'weights': [1/enc]*len(bbh_pred[0])}, label=r'$b\\bar{b}h$', color='#da3b46')\n",
    "sns.distplot(bbxaa_pred[0], kde=False, bins=np.arange(0, 1 + 0.04, 0.04),\n",
    "             hist_kws={'alpha': 0.8, 'histtype': 'step', 'linewidth': 3, 'weights': [1/enc]*len(bbxaa_pred[0])}, label=r'$bb\\gamma\\gamma$', color='#3f7f93')\n",
    "plt.legend(loc='upper center', fontsize=14)\n",
    "plt.grid(linestyle='dashed', alpha=0.4, color='#808080')\n",
    "ax = plt.gca()\n",
    "ax.tick_params(axis='both', which='major', labelsize=14)\n",
    "plt.xlabel(r'$p(hh^{SM})$', fontsize=14)\n",
    "plt.ylabel(r'$N$', fontsize=14)\n",
    "plt.yscale('log')\n",
    "plt.tight_layout()\n",
    "plt.savefig('../plots/bbxaa-bbh-hhsm-BDT-dist.pdf', dpi=300)"
   ]
  },
  {
   "cell_type": "code",
   "execution_count": 117,
   "metadata": {},
   "outputs": [
    {
     "name": "stdout",
     "output_type": "stream",
     "text": [
      "sig: 4.03, ku events: 123, hhsm events: 41, tth events: 19, bbh events: 91, bbxaa events: 654\n",
      "sig: 4.88, ku events: 104, hhsm events: 175, tth events: 53, bbh events: 117, bbxaa events: 839\n",
      "sig: 11.65, ku events: 11, hhsm events: 13, tth events: 313, bbh events: 19, bbxaa events: 367\n",
      "sig: 14.02, ku events: 80, hhsm events: 52, tth events: 10, bbh events: 2319, bbxaa events: 24898\n",
      "sig: 297.61, ku events: 9, hhsm events: 5, tth events: 5, bbh events: 439, bbxaa events: 89025\n"
     ]
    }
   ],
   "source": [
    "df_array = [df_bbxaa_test, df_bbh_test, df_tth_test, df_hhsm_test, df_ku_test]\n",
    "weight_array = [weight_bbxaa*1.5, weight_bbh, weight_tth*1.2, weight_hhsm*1.72, weight_ku*1.28]\n",
    "\n",
    "ps_exp_class = collections.Counter(classifier.predict(pd.concat([df_array[4].iloc[:,:-2].sample(n=round(weight_array[4]), random_state=seed, replace=True),\n",
    "                                                                 df_array[3].iloc[:,:-2].sample(n=round(weight_array[3]), random_state=seed, replace=True),\n",
    "                                                                 df_array[2].iloc[:,:-2].sample(n=round(weight_array[2]), random_state=seed, replace=True),\n",
    "                                                                 df_array[1].iloc[:,:-2].sample(n=round(weight_array[1]), random_state=seed, replace=True),\n",
    "                                                                 df_array[0].iloc[:,:-2].sample(n=round(weight_array[0]), random_state=seed, replace=True)]).values))\n",
    "\n",
    "nevents_ku, sig_ku = get_mclass(4, df_array, weight_array, ps_exp_class)\n",
    "nevents_hhsm, sig_hhsm = get_mclass(3, df_array, weight_array, ps_exp_class)\n",
    "nevents_tth, sig_tth = get_mclass(2, df_array, weight_array, ps_exp_class)\n",
    "nevents_bbh, sig_bbh = get_mclass(1, df_array, weight_array, ps_exp_class)\n",
    "nevents_bbxaa, sig_bbxaa = get_mclass(0, df_array, weight_array, ps_exp_class)\n",
    "confusion = np.column_stack((nevents_ku, nevents_hhsm, nevents_tth, nevents_bbh, nevents_bbxaa))"
   ]
  }
 ],
 "metadata": {
  "kernelspec": {
   "display_name": "iml",
   "language": "python",
   "name": "iml"
  },
  "language_info": {
   "codemirror_mode": {
    "name": "ipython",
    "version": 3
   },
   "file_extension": ".py",
   "mimetype": "text/x-python",
   "name": "python",
   "nbconvert_exporter": "python",
   "pygments_lexer": "ipython3",
   "version": "3.6.7"
  }
 },
 "nbformat": 4,
 "nbformat_minor": 4
}
