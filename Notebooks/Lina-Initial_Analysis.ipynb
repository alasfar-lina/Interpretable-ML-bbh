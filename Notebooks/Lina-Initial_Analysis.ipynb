{
 "cells": [
  {
   "cell_type": "code",
   "execution_count": 1,
   "metadata": {
    "pycharm": {
     "is_executing": false
    }
   },
   "outputs": [],
   "source": [
    "#####################################################################\n",
    "# This notebook is authored by: Ayan Paul                           #\n",
    "# Date: November 2020                                               #\n",
    "# If you use this code or the results from this work please cite:   # \n",
    "# Resurrecting bbh with kinematic shapes                            #\n",
    "# Christophe Grojean, Ayan Paul and Zuoni Qian                      #\n",
    "# arXiv:2011.13945 (https://arxiv.org/abs/2011.13945)               # \n",
    "#####################################################################\n",
    "\n",
    "\n",
    "# IMPORTANT::   USE xgb 1.0.2 and shap 0.34 versions for parallisation to work.\n",
    "import numpy as np\n",
    "import pandas as pd\n",
    "import xgboost as xgb\n",
    "from sklearn import ensemble\n",
    "import sklearn.model_selection as ms\n",
    "from sklearn import metrics\n",
    "import shap\n",
    "import matplotlib.pyplot as plt\n",
    "import seaborn as sns\n",
    "import os\n",
    "import math as m\n",
    "import collections\n",
    "import pickle\n",
    "from matplotlib.colors import ListedColormap, LinearSegmentedColormap\n",
    "from colour import Color\n",
    "from matplotlib import rc\n",
    "import sys\n",
    "#import mplhep as hep\n",
    "\n",
    "\n",
    "####\n",
    "rc(\"font\",family=\"serif\")\n",
    "rc(\"axes\",xmargin=0)\n",
    "rc(\"axes\",ymargin=0.05)\n",
    "rc(\"xtick\",direction='in')\n",
    "rc(\"ytick\",direction='in')\n",
    "rc(\"xtick\",top=True)\n",
    "rc(\"ytick\",right=True)\n",
    "rc(\"legend\",frameon=False)\n",
    "rc(\"xtick.major\",size=5)\n",
    "rc(\"xtick.minor\",size=2.5)\n",
    "rc(\"ytick.major\",size=5)\n",
    "rc(\"ytick.minor\",size=2.5)\n",
    "rc(\"savefig\",facecolor=\"ff000000\")\n",
    "\n",
    "\n",
    "####\n",
    "# To supress warnings from shap\n",
    "if not sys.warnoptions:\n",
    "    import warnings\n",
    "    warnings.simplefilter(\"ignore\")\n",
    "\n",
    "os.environ[\"CUDA_VISIBLE_DEVICES\"] = '0'\n",
    "os.environ['TF_CPP_MIN_LOG_LEVEL'] = '1'\n",
    "#N_THREADS = 42 ## Change for reducing load on CPU\n",
    "N_THREADS = 42 ## Change for reducing load on CPU\n",
    "os.environ['OMP_NUM_THREADS'] = str(N_THREADS)\n",
    "seed = 42\n",
    "# #31455b nice colour \n",
    "col= ['#D9296A','#1BA698','#52c9ed','#EB5952','#F2955E','#5196A6']\n",
    "\n",
    "colors = col[0:2]\n",
    "cmp_2 = LinearSegmentedColormap.from_list('my_list', [Color(c1).rgb for c1 in colors], N=len(colors))\n",
    "\n",
    "colors = col[0:3]\n",
    "cmp_3 = LinearSegmentedColormap.from_list('my_list', [Color(c1).rgb for c1 in colors], N=len(colors))\n",
    "\n",
    "colors = col[0:4]\n",
    "cmp_4 = LinearSegmentedColormap.from_list('my_list', [Color(c1).rgb for c1 in colors], N=len(colors))\n",
    "\n",
    "colors = col[0:5]\n",
    "cmp_5 = LinearSegmentedColormap.from_list('my_list', [Color(c1).rgb for c1 in colors], N=len(colors))"
   ]
  },
  {
   "cell_type": "markdown",
   "metadata": {},
   "source": [
    "## Helper funtion for I/O, BDT analysis and evaluation of results"
   ]
  },
  {
   "cell_type": "code",
   "execution_count": 11,
   "metadata": {
    "pycharm": {
     "is_executing": false,
     "name": "#%%\n"
    }
   },
   "outputs": [],
   "source": [
    "def fileparser(path, dlist, frac=0.5, sample=0, L=2, weights=True):\n",
    "    \"\"\" The fileparser to read the events from a csv\n",
    "        argument:\n",
    "            path: the path to the file\n",
    "            dlist: the list of variables to be excluded\n",
    "            frac: the fraction of sample that will be the test sample when sample is set to 0\n",
    "            sample: the number of events that will be the train sample.\n",
    "            L: Luminosity scaling\n",
    "        returns:\n",
    "            df_train: the training dataframe\n",
    "            df_test: the testing dataframe\n",
    "            weight: the weight (related to crosssection)\n",
    "    \"\"\"\n",
    "    df = pd.read_csv(path)\n",
    "    df.drop(columns=dlist, inplace=True)    \n",
    "    n = len(df)\n",
    "    if weights: weight = int(round(np.abs(df['weight'].sum()) * 3. * 1e6 * L)) ## The abs(mean()) is taken to make the weight of ybyt +ve\n",
    "    else: weight = int(round(np.abs(df['weight'].mean()) * 3. * 1e3 * L)) ## REMEMBER: Weight is put by hand in the root file and is just the XS in fb.\n",
    "#     df['weight'] = df['weight']/np.abs(df['weight'])\n",
    "    if sample != 0:\n",
    "        df_train = df.sample(n=sample, random_state=seed)\n",
    "        df_test = df.drop(df_train.index)\n",
    "    else :\n",
    "        df_test = df.sample(frac=frac, random_state=seed)\n",
    "        df_train = df.drop(df_test.index)\n",
    "#     df_train = df_train[(df_train.maa > 123) & (df_train.maa < 127)]\n",
    "#     df_test = df_test[(df_test.maa > 123) & (df_test.maa < 127)]\n",
    "    return df_train, df_test, weight\n",
    "\n",
    "def runBDT(df, filename='', rf=False, depth=10, sample=1, seed=seed):\n",
    "    \"\"\" The BDT/RF runner\n",
    "        argument:\n",
    "            df: the dataframe with all the events\n",
    "            filename: the name of the pickle file to store the model in\n",
    "            rf: a bolean to toggle between BDT and Random Forest classifiers\n",
    "            sample: The fraction of variables to sample\n",
    "            seed: the seed for the random number generator\n",
    "        returns:\n",
    "            classifier: the classifier\n",
    "            x_test: the features for the test set\n",
    "            y_test: the labels for the test set\n",
    "            shap_values: the SHAP values\n",
    "            X_shap: the feature set with which the shap values have been computed\n",
    "    \"\"\"\n",
    "    mshap = True if depth <= 10 else False\n",
    "    df = df.sample(frac=sample)\n",
    "    X = df.drop(columns=['class', 'weight'])\n",
    "    y = df['class'].values\n",
    "\n",
    "    # Split for training and testing\n",
    "    x_train, x_test, y_train, y_test = ms.train_test_split(X.values, y, test_size=0.2, random_state=seed)\n",
    "    eval_set = [(x_train, y_train), (x_test, y_test)]\n",
    "    \n",
    "    # Fit the decision tree\n",
    "    if rf: \n",
    "        classifier = ensemble.RandomForestClassifier(max_depth=depth, n_estimators=1000, criterion='gini', n_jobs=int(N_THREADS/2), random_state=seed)\n",
    "        classifier = classifier.fit(x_train, y_train)\n",
    "    else: \n",
    "        classifier = xgb.XGBClassifier(max_depth=depth, learning_rate=0.01, objective='multi:softprob', num_class=nchannels,\n",
    "                                         n_jobs=N_THREADS, subsample=0.5, colsample_bytree=1, n_estimators=5000, random_state=seed)\n",
    "        classifier = classifier.fit(x_train, y_train, early_stopping_rounds=50, eval_set=eval_set,\n",
    "                                eval_metric=[\"merror\", \"mlogloss\"], verbose=False)\n",
    "    \n",
    "    # Predictions\n",
    "    y_pred = classifier.predict(x_test)\n",
    "    print('Accuracy Score: {:4.2f}% '.format(100*metrics.accuracy_score(y_test, y_pred)))\n",
    "    if filename != '': pickle.dump(classifier, open(filename, 'wb'))\n",
    "    \n",
    "    # Calculate the SHAP scores\n",
    "    if mshap:\n",
    "        X_shap = pd.DataFrame(x_test, columns=df.drop(columns=['class', 'weight']).columns)\n",
    "        explainer = shap.TreeExplainer(classifier)\n",
    "        shap_values = explainer.shap_values(X_shap)\n",
    "    else:\n",
    "        shap_values = []\n",
    "        X_shap = pd.DataFrame()\n",
    "        \n",
    "    return classifier, x_test, y_test, shap_values, X_shap\n",
    "\n",
    "def eval_training(classifier):\n",
    "    \"\"\" Evaluate the training\n",
    "        argument:\n",
    "            classifier: the BDT classifier\n",
    "    \"\"\"\n",
    "    results = classifier.evals_result()\n",
    "    epochs = len(results['validation_0']['merror'])\n",
    "    x_axis = range(0, epochs)\n",
    "\n",
    "    # plot log loss\n",
    "    #plt.style.use(hep.style.LHCb2)\n",
    "    plt.figure(figsize=(12,5))\n",
    "    plt.subplot(1, 2, 1)\n",
    "    plt.plot(x_axis, results['validation_0']['mlogloss'], label='train')\n",
    "    plt.plot(x_axis, results['validation_1']['mlogloss'], label='test')\n",
    "    plt.legend()\n",
    "\n",
    "    plt.ylabel('log loss')\n",
    "    plt.title('Classifier log loss')\n",
    "    plt.grid()\n",
    "\n",
    "    # plot classification error\n",
    "    plt.subplot(1, 2, 2)\n",
    "    plt.plot(x_axis, results['validation_0']['merror'], label='train')\n",
    "    plt.plot(x_axis, results['validation_1']['merror'], label='test')\n",
    "    plt.legend()\n",
    "\n",
    "    plt.ylabel('Classification Error')\n",
    "    plt.title('Classification Error')\n",
    "    plt.grid()\n",
    "    plt.show()\n",
    "    \n",
    "def get_mclass(i, df_array, weight_array, ps_exp_class, seed=seed):\n",
    "    \"\"\" This function is used to create the confusion matrix\n",
    "        arguments:\n",
    "            i: integer corresponding to the class number\n",
    "            df_array: the array of the dataframes of the different classes\n",
    "            weight_array: the array of the weights for the different classes\n",
    "            ps_exp_class: the collection of the pseudo experiment events\n",
    "            seed: the seed for the random number generator\n",
    "        returns:\n",
    "            nevents: the number of events\n",
    "            sif: the significance\n",
    "    \"\"\"\n",
    "    mclass = []\n",
    "    for j in range(nchannels):\n",
    "        mclass.append(collections.Counter(classifier.predict(df_array[j].iloc[:,:-2].values))[i]/len(df_array[j])*weight_array[j]/weight_array[i])\n",
    "\n",
    "    sig = np.sqrt(ps_exp_class[i])*mclass[i]/np.sum(mclass)\n",
    "    nevents = np.round(ps_exp_class[i]/np.sum(mclass)*np.array(mclass)).astype(int)\n",
    "    if nchannels == 5: print('sig: {:2.2f}, ku events: {}, hhsm events: {}, tth events: {}, bbh events: {}, bbxaa events: {}'.format(sig, nevents[4], nevents[3], nevents[2], nevents[1], nevents[0]))\n",
    "    if nchannels == 4: print('sig: {:2.2f}, hhsm events: {}, tth events: {}, bbh events: {}, bbxaa events: {}'.format(sig, nevents[3], nevents[2], nevents[1], nevents[0]))\n",
    "    if nchannels == 3: print('sig: {:2.2f}, kd events: {}, ku events: {}, hhsm events: {} '.format(sig,  nevents[2], nevents[1], nevents[0]))    \n",
    "    if nchannels == 2: print('sig: {:2.2f}, ku events: {}, kd events: {}'.format(sig, nevents[1], nevents[0]))\n",
    "    return nevents, sig \n",
    "\n",
    "\n",
    "def abs_shap(df_shap, df, shap_plot, names, class_names, cmp):\n",
    "    ''' A function to plot the bar plot for the mean abs SHAP values\n",
    "        arguments:\n",
    "            df_shap: the dataframe of the SHAP values\n",
    "            df: the dataframe for the feature values for which the SHAP values have been determined\n",
    "            shap_plot: The name of the output file for the plot\n",
    "            names: The names of the variables\n",
    "            class_names: names of the classes\n",
    "            cmp: the colour map\n",
    "    '''\n",
    "    rc('text', usetex=True)\n",
    "    #plt.style.use(hep.style.LHCb2)\n",
    "    plt.rcParams['text.latex.preamble'] = r\"\\usepackage{amsmath}\"\n",
    "    plt.figure(figsize=(5,5))\n",
    "    shap.summary_plot(df_shap, df, color=cmp, class_names=class_names, class_inds='original', plot_size=(5,5), show=False)#, feature_names=names)\n",
    "    ax = plt.gca()\n",
    "    handles, labels = ax.get_legend_handles_labels()\n",
    "    ax.legend(reversed(handles), reversed(labels), loc='lower right', fontsize=15)\n",
    "    plt.xlabel(r'$\\overline{|S_v|}$', fontsize=15)\n",
    "    ax = plt.gca()\n",
    "    ax.spines[\"top\"].set_visible(True)\n",
    "    ax.spines[\"right\"].set_visible(True)\n",
    "    ax.spines[\"left\"].set_visible(True)\n",
    "    vals = ax.get_xticks()\n",
    "    ax.tick_params(axis='both', which='major', labelsize=15)\n",
    "    for tick in vals:\n",
    "        ax.axvline(x=tick, linestyle='dashed', alpha=0.7, color='#808080', zorder=0, linewidth=0.5)\n",
    "    plt.tight_layout()\n",
    "    plt.savefig(shap_plot, dpi=300)\n",
    "    rc('text', usetex=False)\n",
    "#define a function to convert logodds to probability for multi-class \n",
    "def logodds_to_proba(logodds):\n",
    "    return np.exp(logodds)/np.exp(logodds).sum()\n",
    "########### Calculate the\n",
    "v=246.0\n",
    "MT= 173.2\n",
    "MH=125.1\n",
    "alps= 0.1198\n",
    "###################################################\n",
    "def XSNLO(c6,cg,ckin,cu):\n",
    "    L=1e6\n",
    "    cH=c6/L\n",
    "    cuH=cu/L\n",
    "    cHkin=ckin/L\n",
    "    cHG=cg/L/16/np.pi**2\n",
    "    return 1.000-3.9866459999999995*cHkin*v**2+8.949195999999999*cHkin**2*v**4 +((3.1233253007332573 -14.981140447025783*cHkin*v**2)*cuH*v**3)/MT+(cH*(1.7820680000000002-4.268759999999999*cHkin*v**2)*v**4)/MH**2 +(6.637391499999998*cuH**2*v**6)/MT**2 +(2.545778159529616*cH*cuH*v**7)/(MH**2*MT) + (1.368992*cH**2*v**8)/MH**4+ (3106.4364774009646*cHG**2*v**4)/alps**2 - (74.20004538081712*cH*cHG*v**6)/(MH**2*alps)+(cHG*v**2*((-52.47197151255347 + 236.21675299329388*cHkin)*MT -188.14684359273673*cuH*v**3))/(MT*alps)\n",
    "\n",
    "###################################################\n",
    "def XSLO(c6,cg,ckin,cu):\n",
    "    L=1e6\n",
    "    cH=c6/L\n",
    "    cuH=cu/L\n",
    "    cHkin=ckin/L\n",
    "    cHG=cg/L/16/np.pi**2\n",
    "    return 1.-3.2954600000000003*cHkin*v**2 +6.722859999999997*cHkin**2*v**4+((2.6399053858140427- 11.480309927700123*cHkin*v**2)*cuH*v**3)/MT+(cH*(1.6048999999999998-3.015439999999998*cHkin*v**2)*v**4)/MH**2+(5.18126*cuH**2*v**6)/MT**2+(1.753815736173558*cH*cuH*v**7)/(MH**2*MT)+(1.11256*cH**2*v**8)/MH**4+(3050.5592304475026*cHG**2*v**4)/alps**2-(60.40684513611929*cH*cHG*v**6)/(MH**2*alps)+(cHG*v**2*((-53.14725283220398+186.0102075680209*cHkin)*MT-154.7657478815316*cuH*v**3))/(MT*alps)\n",
    "####################################################\n",
    "def Kfac(kappa_lambda):\n",
    "    L=1e6\n",
    "    c6 = L*MH**2/v**4*0.5*(1-kappa_lambda)\n",
    "    num =XSNLO(c6,0,0,0)\n",
    "    den=XSLO(c6,0,0,0)\n",
    "    return (num/den)"
   ]
  },
  {
   "cell_type": "markdown",
   "metadata": {},
   "source": [
    "## 14 TeV Analysis"
   ]
  },
  {
   "cell_type": "markdown",
   "metadata": {},
   "source": [
    "### Load the data"
   ]
  },
  {
   "cell_type": "code",
   "execution_count": 4,
   "metadata": {
    "pycharm": {
     "is_executing": false,
     "name": "#%%\n"
    }
   },
   "outputs": [
    {
     "name": "stdout",
     "output_type": "stream",
     "text": [
      "No. of hh klambda=8 events: train = 40000, test = 5585\n",
      "No. of hhsm events: train = 40000, test = 8436\n",
      "No. of ku=1600 events: train = 40000, test = 37882\n",
      "No. of kd=800 events: train = 40000, test = 46441\n",
      "No. of tth events: train = 60000, test = 86701\n",
      "No. of bbh events: train = 100260, test = 132808\n",
      "No. of bbxaa events: train = 100000, test = 37488\n"
     ]
    }
   ],
   "source": [
    "# dlist = ['dphibb', 'etaaa', 'ptb2', 'drbamin', 'etaa2', 'etab1', 'etaa1', 'nbjet', 'etab2']\n",
    "# dlist = ['etaaa', 'ptb2', 'drbamin', 'etaa2', 'etab1', 'etaa1', 'mbbh', 'met', 'drbamin', 'njjet', 'etab2']\n",
    "# dlist = ['ptb2', 'etaaa', 'etaa1', 'met', 'pta1', 'etab1', 'etaa2', 'dphibb', 'dphiba1', 'etab2']\n",
    "# dlist = ['ptb2', 'etab2', 'nbjet', 'etaaa', 'dphibb', 'drba1', 'etaa1', 'etab1']\n",
    "#dlist = ['ptb2', 'etab2', 'nbjet', 'etaaa', 'dphibb', 'drba1', 'etaa1', 'etab1', 'dphiba1', 'etaa2', 'mb1h', 'mbbh', 'drbamin', 'pta2']\n",
    "#dlist = ['ptb2', 'etab2', 'nbjet','njjet' ,'etaaa', 'dphibb', 'drba1', 'etaa1', 'etab1', 'dphiba1', 'drbamin', 'pta2']\n",
    "# names = [r'$n_{jet}$', r'$p_T^{b_1}$', r'$p_T^{\\gamma_1}$', r'$p_T^{\\gamma_2}$', r'$p_T^{\\gamma\\gamma}$', r'$m_{bb}$', r'$m_{\\gamma\\gamma}$', r'$m_{b_1h}$', r'$m_{bbh}$',\n",
    "#            r'$H_T$', r'$\\delta R_{b\\gamma_1}$', r'$\\delta\\phi_{b\\gamma_1}$']\n",
    "#names = [ r'$p_T^{b_2}$', r'$\\eta_{b_2}$',r'$n_{bjet}$',r'$n_{jet}$',r'$\\eta_{\\gamma_1}$',]\n",
    "# 14 TeV\n",
    "dlist =[]\n",
    "#dlist=['ptb2','nbjet','dphiba1','etab1','pta2','drba1','dphibb','etab2']\n",
    "df_hhk8, df_hhk8_test, weight_hhk8 = fileparser(\"../simulations/HL-LHC/kl8.csv\", dlist, sample=40000, weights=True)\n",
    "df_hhsm, df_hhsm_test, weight_hhsm = fileparser(\"../simulations/HL-LHC/hhsm.csv\", dlist, sample=40000, weights=True)\n",
    "df_kd, df_kd_test, weight_kd = fileparser(\"../simulations/HL-LHC/kd.csv\", dlist, sample=40000, weights=True)\n",
    "df_ku, df_ku_test, weight_ku = fileparser(\"../simulations/HL-LHC/ku.csv\", dlist, sample=40000, weights=True)\n",
    "df_tth_lep, df_tth_test_lep, weight_tth_lep = fileparser(\"../simulations/HL-LHC/ttH_lep.csv\", dlist, sample=20000, weights=True)\n",
    "df_tth_full, df_tth_test_full, weight_tth_full = fileparser(\"../simulations/HL-LHC/ttH_full.csv\", dlist, sample=60000, weights=True)\n",
    "df_yb2, df_yb2_test, weight_yb2 = fileparser(\"../simulations/HL-LHC/yb2.csv\", dlist, sample=3890*6)\n",
    "df_ybyt, df_ybyt_test, weight_ybyt = fileparser(\"../simulations/HL-LHC/ybyt.csv\", dlist, sample=500*6)\n",
    "df_yt2, df_yt2_test, weight_yt2 = fileparser(\"../simulations/HL-LHC/yt2.csv\", dlist, sample=7360*6)\n",
    "df_zh, df_zh_test, weight_zh = fileparser(\"../simulations/HL-LHC/zh.csv\", dlist, sample=4960*6)\n",
    "\n",
    "df_bbh = pd.concat([df_yb2, df_ybyt, df_yt2, df_zh])\n",
    "df_bbh_test = pd.concat([df_yb2_test, df_ybyt_test, df_yt2_test, df_zh_test])\n",
    "df_bbh_test = df_bbh_test.sample(frac=0.5).reset_index(drop=True)\n",
    "df_bbh['class'] = 1\n",
    "df_bbh_test['class'] = 1\n",
    "weight_bbh = int(weight_yb2*1.5 - weight_ybyt*1.9 + weight_yt2*2.5 + weight_zh*1.3)\n",
    "\n",
    "df_bbxaa, df_bbxaa_test, weight_bbxaa = fileparser(\"../simulations/HL-LHC/bbxaa.csv\", dlist, sample=100000)\n",
    "\n",
    "# choose the decay of thw W \n",
    "df_tth =df_tth_full\n",
    "df_tth_test=df_tth_test_full\n",
    "weight_tth=weight_tth_full\n",
    "\n",
    "df_hhsm['class'] = 3 # voodoo to fix the class for hhsm from 5\n",
    "df_hhsm_test['class'] = 3 # voodoo to fix the class for hhsm from 5\n",
    "df_tth['class'] = 2 # voodoo to fix the class for  from 4\n",
    "df_tth_test['class'] = 2 # voodoo to fix the class  from 4\n",
    "\n",
    "names = list(df_bbxaa.columns)[:-2]\n",
    "\n",
    "\n",
    "print(\"No. of hh klambda=8 events: train = {}, test = {}\".format(df_hhk8.shape[0],df_hhk8_test.shape[0]))\n",
    "print(\"No. of hhsm events: train = {}, test = {}\".format(df_hhsm.shape[0],df_hhsm_test.shape[0]))\n",
    "print(\"No. of ku=1600 events: train = {}, test = {}\".format(df_ku.shape[0],df_ku_test.shape[0]))\n",
    "print(\"No. of kd=800 events: train = {}, test = {}\".format(df_kd.shape[0],df_kd_test.shape[0]))\n",
    "print(\"No. of tth events: train = {}, test = {}\".format(df_tth.shape[0],df_tth_test.shape[0]))\n",
    "print(\"No. of bbh events: train = {}, test = {}\".format(df_bbh.shape[0],df_bbh_test.shape[0]))\n",
    "print(\"No. of bbxaa events: train = {}, test = {}\".format(df_bbxaa.shape[0],df_bbxaa_test.shape[0]))"
   ]
  },
  {
   "cell_type": "markdown",
   "metadata": {},
   "source": [
    "## The hh SM analysis\n",
    "\n",
    "- Add the two datasets\n",
    "- Run the BDT and make the SHAP plot\n",
    "- Check the accuracy of the classifier\n",
    "- make the discriminator plot"
   ]
  },
  {
   "cell_type": "code",
   "execution_count": null,
   "metadata": {},
   "outputs": [],
   "source": []
  },
  {
   "cell_type": "code",
   "execution_count": 7,
   "metadata": {},
   "outputs": [],
   "source": [
    "channels = [df_hhsm, df_bbh, df_tth, df_bbxaa\n",
    "           dlist]\n",
    "nchannels = len(channels)\n",
    "df_train = pd.concat(channels, ignore_index=True)\n",
    "df_train = df_train.sample(frac=1).reset_index(drop=True)"
   ]
  },
  {
   "cell_type": "code",
   "execution_count": 8,
   "metadata": {
    "pycharm": {
     "is_executing": false,
     "name": "#%%\n"
    }
   },
   "outputs": [
    {
     "name": "stdout",
     "output_type": "stream",
     "text": [
      "Accuracy Score: 78.60% \n"
     ]
    },
    {
     "data": {
      "image/png": "[encoded data removed]",
      "text/plain": [
       "<Figure size 360x360 with 1 Axes>"
      ]
     },
     "metadata": {
      "needs_background": "light"
     },
     "output_type": "display_data"
    }
   ],
   "source": [
    "class_names = [r'$bb\\gamma\\gamma$', r'$b\\bar{b}h$', r'$t\\bar{t}h$', r'$hh^{SM}$']\n",
    "filename = 'models/HL-LHC-BDT/hbb-BDT-4class-hhsm-fullW-1btag.pickle.dat' ## The pickle model store if necessary.\n",
    "shap_plot = '../plots/shap-bbxaa-bbh-tthfull-hhsm.pdf'\n",
    "classifier, x_test, y_test, shap_values_4, X_shap_4 = runBDT(df_train, filename)\n",
    "abs_shap(shap_values_4, X_shap_4, shap_plot, names=names, class_names=class_names, cmp=cmp_4)"
   ]
  },
  {
   "cell_type": "code",
   "execution_count": 9,
   "metadata": {
    "pycharm": {
     "is_executing": false,
     "name": "#%%\n"
    }
   },
   "outputs": [
    {
     "name": "stdout",
     "output_type": "stream",
     "text": [
      "Accuracy Score for hhsm: 66.05% \n",
      "Accuracy Score for tth: 89.38% \n",
      "Accuracy Score for bbh: 78.37% \n",
      "Accuracy Score for bbxaa: 77.58% \n"
     ]
    },
    {
     "data": {
      "image/png": "[encoded data removed]",
      "text/plain": [
       "<Figure size 432x288 with 1 Axes>"
      ]
     },
     "metadata": {
      "needs_background": "light"
     },
     "output_type": "display_data"
    }
   ],
   "source": [
    "\n",
    "disc = 3\n",
    "enc=1\n",
    "hhsm_p = pd.DataFrame(classifier.predict_proba(df_hhsm_test.drop(columns=['class', 'weight']).values)[:,disc])\n",
    "print('Accuracy Score for hhsm: {:4.2f}% '.format(100*metrics.accuracy_score(df_hhsm_test['class'].values, classifier.predict(df_hhsm_test.drop(columns=['class', 'weight']).values))))\n",
    "hhsm_p['weight'] = df_hhsm_test['weight'].values\n",
    "\n",
    "tth_p = pd.DataFrame(classifier.predict_proba(df_tth_test.drop(columns=['class', 'weight']).values)[:,disc])\n",
    "print('Accuracy Score for tth: {:4.2f}% '.format(100*metrics.accuracy_score(df_tth_test['class'].values, classifier.predict(df_tth_test.drop(columns=['class', 'weight']).values))))\n",
    "tth_p['weight'] = df_tth_test['weight'].values\n",
    "\n",
    "bbh_p = pd.DataFrame(classifier.predict_proba(df_bbh_test.drop(columns=['class', 'weight']).values)[:,disc])\n",
    "print('Accuracy Score for bbh: {:4.2f}% '.format(100*metrics.accuracy_score(df_bbh_test['class'].values, classifier.predict(df_bbh_test.drop(columns=['class', 'weight']).values))))\n",
    "bbh_p['weight'] = df_bbh_test['weight'].values\n",
    "\n",
    "bbxaa_p = pd.DataFrame(classifier.predict_proba(df_bbxaa_test.drop(columns=['class', 'weight']).values)[:,disc])\n",
    "print('Accuracy Score for bbxaa: {:4.2f}% '.format(100*metrics.accuracy_score(df_bbxaa_test['class'].values, classifier.predict(df_bbxaa_test.drop(columns=['class', 'weight']).values))))\n",
    "bbxaa_p['weight'] = df_bbxaa_test['weight'].values\n",
    "\n",
    "hhsm_pred = hhsm_p.sample(n=round(weight_hhsm*1.72*enc), replace=True, random_state=seed).reset_index(drop=True)\n",
    "tth_pred = tth_p.sample(n=round(weight_tth*1.2*enc), replace=True, random_state=seed).reset_index(drop=True)\n",
    "bbh_pred = bbh_p.sample(n=round(weight_bbh*enc), replace=True, random_state=seed).reset_index(drop=True)\n",
    "bbxaa_pred = bbxaa_p.sample(n=round(weight_bbxaa*1.5*enc), replace=True, random_state=seed).reset_index(drop=True)\n",
    "\n",
    "plt.figure(figsize=(6,4))\n",
    "ax = plt.gca()\n",
    "ax.set_prop_cycle(color=(col[0:4])[::-1])\n",
    "rc('text', usetex=True)\n",
    "plt.rcParams['text.latex.preamble'] = [r\"\\usepackage{amsmath}\"]\n",
    "sns.distplot(hhsm_pred[0], kde=False, bins=np.arange(0, 1 + 0.04, 0.04),\n",
    "             hist_kws={'alpha': 0.8, 'histtype': 'step', 'linewidth': 3, 'weights': [1/enc]*len(hhsm_pred[0])}, label=r'$hh^{SM}$')\n",
    "sns.distplot(tth_pred[0], kde=False, bins=np.arange(0, 1 + 0.04, 0.04),\n",
    "             hist_kws={'alpha': 0.8, 'histtype': 'step', 'linewidth': 3, 'weights': [1/enc]*len(tth_pred[0])}, label=r'$t\\bar{t}h$')\n",
    "sns.distplot(bbh_pred[0], kde=False, bins=np.arange(0, 1 + 0.04, 0.04),\n",
    "             hist_kws={'alpha': 0.8, 'histtype': 'step', 'linewidth': 3, 'weights': [1/enc]*len(bbh_pred[0])}, label=r'$b\\bar{b}h$')\n",
    "sns.distplot(bbxaa_pred[0], kde=False, bins=np.arange(0, 1 + 0.04, 0.04),\n",
    "             hist_kws={'alpha': 0.8, 'histtype': 'step', 'linewidth': 3, 'weights': [1/enc]*len(bbxaa_pred[0])}, label=r'$bb\\gamma\\gamma$')\n",
    "plt.legend(loc='upper center', fontsize=14)\n",
    "plt.grid(linestyle='dashed', alpha=0.4, color='#808080')\n",
    "#ax = plt.gca()\n",
    "ax.tick_params(axis='both', which='major', labelsize=14)\n",
    "plt.xlabel(r'$p(hh^{SM})$', fontsize=14)\n",
    "plt.ylabel(r'$N$', fontsize=14)\n",
    "plt.yscale('log')\n",
    "plt.tight_layout()\n",
    "plt.savefig('../plots/bbxaa-bbh-hhsm-Wfull-BDT-dist.pdf', dpi=300)"
   ]
  },
  {
   "cell_type": "code",
   "execution_count": 10,
   "metadata": {},
   "outputs": [
    {
     "name": "stdout",
     "output_type": "stream",
     "text": [
      "sig: 4.70, hhsm events: 189, tth events: 336, bbh events: 127, bbxaa events: 965\n",
      "sig: 58.43, hhsm events: 39, tth events: 4145, bbh events: 81, bbxaa events: 768\n",
      "sig: 14.22, hhsm events: 51, tth events: 135, bbh events: 2322, bbxaa events: 24148\n",
      "sig: 299.09, hhsm events: 6, tth events: 25, bbh events: 437, bbxaa events: 89920\n"
     ]
    }
   ],
   "source": [
    "df_array = [df_bbxaa_test, df_bbh_test, df_tth_test, df_hhsm_test]\n",
    "weight_array = [weight_bbxaa*1.5, weight_bbh, weight_tth*1.2, weight_hhsm*1.72]\n",
    "\n",
    "ps_exp_class = collections.Counter(classifier.predict(pd.concat([df_array[3].iloc[:,:-2].sample(n=round(weight_array[3]), random_state=seed, replace=True),\n",
    "                                                                 df_array[2].iloc[:,:-2].sample(n=round(weight_array[2]), random_state=seed, replace=True),\n",
    "                                                                 df_array[1].iloc[:,:-2].sample(n=round(weight_array[1]), random_state=seed, replace=True),\n",
    "                                                                 df_array[0].iloc[:,:-2].sample(n=round(weight_array[0]), random_state=seed, replace=True)]).values))\n",
    "\n",
    "nevents_hhsm, sig_hhsm = get_mclass(3, df_array, weight_array, ps_exp_class)\n",
    "nevents_tth, sig_tth = get_mclass(2, df_array, weight_array, ps_exp_class)\n",
    "nevents_bbh, sig_bbh = get_mclass(1, df_array, weight_array, ps_exp_class)\n",
    "nevents_bbxaa, sig_bbxaa = get_mclass(0, df_array, weight_array, ps_exp_class)\n",
    "confusion = np.column_stack((nevents_hhsm, nevents_tth, nevents_bbh, nevents_bbxaa))"
   ]
  },
  {
   "cell_type": "markdown",
   "metadata": {},
   "source": [
    "#### The Confusion Matrix, total events count for each channel and the signal significance"
   ]
  },
  {
   "cell_type": "code",
   "execution_count": 34,
   "metadata": {},
   "outputs": [
    {
     "name": "stdout",
     "output_type": "stream",
     "text": [
      "\\begin{tabular}{lrrrrr}\n",
      "\\toprule\n",
      "{} &   $hh^{SM}$ &  $t\\bar{t}h$ &   $b\\bar{b}h$ &  $bb\\gamma\\gamma$ &     total \\\\\n",
      "\\midrule\n",
      "$hh^{SM}$        &  189.000000 &    39.000000 &     51.000000 &          6.000000 &     285.0 \\\\\n",
      "$t\\bar{t}h$      &  336.000000 &  4145.000000 &    135.000000 &         25.000000 &    4641.0 \\\\\n",
      "$b\\bar{b}h$      &  127.000000 &    81.000000 &   2322.000000 &        437.000000 &    2967.0 \\\\\n",
      "$bb\\gamma\\gamma$ &  965.000000 &   768.000000 &  24148.000000 &      89920.000000 &  115801.0 \\\\\n",
      "$\\sigma$         &    4.700097 &    58.426661 &     14.222133 &        299.089323 &       0.0 \\\\\n",
      "\\bottomrule\n",
      "\\end{tabular}\n",
      "\n",
      "kappa statistics = 0.781\n"
     ]
    }
   ],
   "source": [
    "confusion2= np.row_stack((nevents_hhsm.T, nevents_tth.T, nevents_bbh.T, nevents_bbxaa.T))\n",
    "confusion_tot = np.round(np.array([confusion[3], confusion[2], confusion[1], confusion[0]])).astype(int)\n",
    "event_total = np.array([[np.sum(confusion_tot[i])] for i in range(confusion_tot.shape[0])])\n",
    "significance = np.append(np.array([np.abs(confusion_tot[i,i])/np.sqrt(np.sum(confusion_tot[:,i])) for i in range(confusion_tot.shape[0])]), 0)\n",
    "confusion_tab = np.vstack((np.append(confusion_tot, event_total, axis=1), significance))\n",
    "    \n",
    "df_conf = pd.DataFrame(confusion_tab, [r'$hh^{SM}$', r'$t\\bar{t}h$', r'$b\\bar{b}h$', r'$bb\\gamma\\gamma$', r'$\\sigma$'])\n",
    "df_conf.columns = [r'$hh^{SM}$', r'$t\\bar{t}h$', r'$b\\bar{b}h$', r'$bb\\gamma\\gamma$', 'total']\n",
    "print(df_conf.to_latex(escape=False))\n",
    "\n",
    "\n",
    "kappa_stat =np.sum([confusion_tot[i,i] for i in range(confusion.shape[0]) ])/ np.sum(confusion_tot)\n",
    "print(\"kappa statistics = {:4.3f}\".format(kappa_stat))"
   ]
  },
  {
   "cell_type": "markdown",
   "metadata": {},
   "source": [
    "## The BSM vs. SM analysis\n",
    "\n",
    "- Add the two datasets\n",
    "- Run the BDT and make the SHAP plot\n",
    "- Check the accuracy of the classifier\n",
    "- make the discriminator plot"
   ]
  },
  {
   "cell_type": "code",
   "execution_count": 43,
   "metadata": {},
   "outputs": [],
   "source": [
    "df_ku['class'] = 0\n",
    "df_ku_test['class'] = 0\n",
    "df_kd['class'] = 1\n",
    "df_kd_test['class'] = 1\n",
    "channels = [df_ku,df_kd]\n",
    "nchannels = len(channels)\n",
    "df_train = pd.concat(channels, ignore_index=True)\n",
    "df_train = df_train.sample(frac=1).reset_index(drop=True)"
   ]
  },
  {
   "cell_type": "code",
   "execution_count": 44,
   "metadata": {
    "pycharm": {
     "is_executing": false,
     "name": "#%%\n"
    }
   },
   "outputs": [
    {
     "name": "stdout",
     "output_type": "stream",
     "text": [
      "Accuracy Score: 53.12% \n"
     ]
    },
    {
     "data": {
      "image/png": "[encoded data removed]",
      "text/plain": [
       "<Figure size 360x360 with 1 Axes>"
      ]
     },
     "metadata": {
      "needs_background": "light"
     },
     "output_type": "display_data"
    }
   ],
   "source": [
    "class_names = [ r'$\\kappa_u$',r'$\\kappa_d$']\n",
    "filename = 'models/HL-LHC-BDT/hbb-BDT-2class-1btag-kappaukappad.pickle.dat' ## The pickle model store if necessary.\n",
    "shap_plot = '../plots/shap-kappa_1st_gen.pdf'\n",
    "\n",
    "classifier, x_test, y_test, shap_values_3, X_shap_3 = runBDT(df_train, filename)\n",
    "abs_shap(shap_values_3, X_shap_3, shap_plot, names=names, class_names=class_names, cmp=cmp_2)"
   ]
  },
  {
   "cell_type": "code",
   "execution_count": 45,
   "metadata": {
    "pycharm": {
     "is_executing": false,
     "name": "#%%\n"
    }
   },
   "outputs": [
    {
     "name": "stdout",
     "output_type": "stream",
     "text": [
      "Accuracy Score: 53.40% \n"
     ]
    }
   ],
   "source": [
    "classifier = pickle.load(open('models/HL-LHC-BDT/hbb-BDT-2class-1btag-kappaukappad.pickle.dat', 'rb')) ## If model is stored\n",
    "comb_test = pd.concat([ df_ku_test.iloc[:,:-1].sample(n=20000, random_state=seed, replace=True)\\\n",
    "                      ,df_kd_test.iloc[:,:-1].sample(n=20000, random_state=seed, replace=True)])\n",
    "print('Accuracy Score: {:4.2f}% '.format(100*metrics.accuracy_score(comb_test['class'].values, classifier.predict(comb_test.drop(columns=['class']).values))))\n",
    "\n"
   ]
  },
  {
   "cell_type": "code",
   "execution_count": 46,
   "metadata": {
    "pycharm": {
     "is_executing": false,
     "name": "#%%\n"
    }
   },
   "outputs": [
    {
     "name": "stdout",
     "output_type": "stream",
     "text": [
      "Accuracy Score for kd: 63.91% \n",
      "Accuracy Score for ku: 42.74% \n"
     ]
    },
    {
     "data": {
      "image/png": "[encoded data removed]",
      "text/plain": [
       "<Figure size 432x288 with 1 Axes>"
      ]
     },
     "metadata": {
      "needs_background": "light"
     },
     "output_type": "display_data"
    }
   ],
   "source": [
    "disc = 1\n",
    "enc=10\n",
    "\n",
    "kd_p = pd.DataFrame(classifier.predict_proba(df_kd_test.drop(columns=['class', 'weight']).values)[:,disc])\n",
    "print('Accuracy Score for kd: {:4.2f}% '.format(100*metrics.accuracy_score(df_kd_test['class'].values, classifier.predict(df_kd_test.drop(columns=['class', 'weight']).values))))\n",
    "kd_p['weight'] = df_kd_test['weight'].values\n",
    "\n",
    "ku_p = pd.DataFrame(classifier.predict_proba(df_ku_test.drop(columns=['class', 'weight']).values)[:,disc])\n",
    "print('Accuracy Score for ku: {:4.2f}% '.format(100*metrics.accuracy_score(df_ku_test['class'].values, classifier.predict(df_ku_test.drop(columns=['class', 'weight']).values))))\n",
    "ku_p['weight'] = df_ku_test['weight'].values\n",
    "\n",
    "#hhsm_p = pd.DataFrame(classifier.predict_proba(df_hhsm_test.drop(columns=['class', 'weight']).values)[:,disc])\n",
    "#print('Accuracy Score for hhsm: {:4.2f}% '.format(100*metrics.accuracy_score(df_hhsm_test['class'].values, classifier.predict(df_hhsm_test.drop(columns=['class', 'weight']).values))))\n",
    "#hhsm_p['weight'] = df_hhsm_test['weight'].values\n",
    "\n",
    "kd_pred = kd_p.sample(n=round(weight_kd*1.28*enc), replace=True, random_state=seed).reset_index(drop=True)\n",
    "ku_pred = ku_p.sample(n=round(weight_kd*1.28*enc), replace=True, random_state=seed).reset_index(drop=True)\n",
    "#hhsm_pred = hhsm_p.sample(n=round(weight_kd*1.28*enc), replace=True, random_state=seed).reset_index(drop=True)\n",
    "\n",
    "#hhsm_pred = hhsm_p.sample(n=round(weight_hhsm*1.72*enc), replace=True, random_state=seed).reset_index(drop=True)\n",
    "\n",
    "plt.figure(figsize=(6,4))\n",
    "ax = plt.gca()\n",
    "ax.set_prop_cycle(color=(col[0:2])[::-1])\n",
    "rc('text', usetex=True)\n",
    "plt.rcParams['text.latex.preamble'] = [r\"\\usepackage{amsmath}\"]\n",
    "\n",
    "sns.distplot(kd_pred[0], kde=False, bins=np.arange(0, 1 + 0.04, 0.04),\n",
    "             hist_kws={'alpha': 0.8, 'histtype': 'step', 'linewidth': 3, 'weights': [1/enc]*len(kd_pred[0])}, label=r'$\\kappa_d$')\n",
    "\n",
    "sns.distplot(ku_pred[0], kde=False, bins=np.arange(0, 1 + 0.04, 0.04),\n",
    "             hist_kws={'alpha': 0.8, 'histtype': 'step', 'linewidth': 3, 'weights': [1/enc]*len(ku_pred[0])}, label=r'$\\kappa_u$')\n",
    "#sns.distplot(hhsm_pred[0], kde=False, bins=np.arange(0, 1 + 0.04, 0.04),\n",
    "             #hist_kws={'alpha': 0.8, 'histtype': 'step', 'linewidth': 3, 'weights': [1/enc]*len(hhsm_pred[0])}, label=r'$hh^{SM}$')\n",
    "plt.legend(loc='best', fontsize=14)\n",
    "plt.grid(linestyle='dashed', alpha=0.4, color='#808080')\n",
    "\n",
    "ax.tick_params(axis='both', which='major', labelsize=14)\n",
    "plt.xlabel(r'$p(\\kappa_q)$', fontsize=14)\n",
    "plt.ylabel(r'$N$', fontsize=14)\n",
    "# plt.yscale('log')\n",
    "plt.tight_layout()\n",
    "plt.savefig('../plots/hhsm-kukd-BDT-dist.pdf', dpi=300)"
   ]
  },
  {
   "cell_type": "code",
   "execution_count": 56,
   "metadata": {},
   "outputs": [
    {
     "name": "stdout",
     "output_type": "stream",
     "text": [
      "sig: 11.53, ku events: 252, kd events: 226\n",
      "sig: 10.48, ku events: 171, kd events: 203\n"
     ]
    }
   ],
   "source": [
    "df_array = [ df_ku_test,df_kd_test]\n",
    "#make all the flavours have the same xs as the sm\n",
    "weight_array = [weight_hhsm*1.72,weight_hhsm*1.72]\n",
    "\n",
    "ps_exp_class = collections.Counter(classifier.predict(pd.concat([df_array[1].iloc[:,:-2].sample(n=round(weight_array[1]), random_state=seed),\n",
    "    df_array[1].iloc[:,:-2].sample(n=round(weight_array[1]), random_state=seed),\n",
    "                  \n",
    "                                                                 df_array[0].iloc[:,:-2].sample(n=round(weight_array[0]), random_state=seed,)]).values))\n",
    "\n",
    "nevents_kd, sig_kd = get_mclass(1, df_array, weight_array, ps_exp_class)\n",
    "nevents_ku, sig_ku = get_mclass(0, df_array, weight_array, ps_exp_class)\n",
    "#nevents_hhsm, sig_hhsm = get_mclass(0, df_array, weight_array, ps_exp_class)\n",
    "confusion = np.column_stack((nevents_ku, nevents_kd))"
   ]
  },
  {
   "cell_type": "code",
   "execution_count": 57,
   "metadata": {},
   "outputs": [
    {
     "name": "stdout",
     "output_type": "stream",
     "text": [
      "\\begin{tabular}{lrrr}\n",
      "\\toprule\n",
      "{} &           0 &           1 &      2 \\\\\n",
      "\\midrule\n",
      "$\\kappa_{u}$ &  171.000000 &  252.000000 &  423.0 \\\\\n",
      "$\\kappa_{d}$ &  203.000000 &  226.000000 &  429.0 \\\\\n",
      "total        &    8.842199 &   10.336999 &    0.0 \\\\\n",
      "\\bottomrule\n",
      "\\end{tabular}\n",
      "\n",
      "kappa statistics = 0.466\n"
     ]
    }
   ],
   "source": [
    "\n",
    "confusion_tot = np.round(np.array(([confusion[1], confusion[0]])).astype(int))\n",
    "event_total = np.array([[np.sum(confusion_tot[i])] for i in range(confusion_tot.shape[0])])\n",
    "significance = np.append(np.array([np.abs(confusion_tot[i,i])/np.sqrt(np.sum(confusion_tot[:,i])) for i in range(confusion_tot.shape[0])]), 0)\n",
    "confusion_tab = np.vstack((np.append(confusion_tot, event_total, axis=1), significance))\n",
    "    \n",
    "df_conf = pd.DataFrame(confusion_tab, [r'$\\kappa_{u}$', r'$\\kappa_{d}$', 'sigma'])\n",
    "df_conf.columns = [[r'$\\kappa_{u}$', r'$\\kappa_{d}$', 'total']\n",
    "print(df_conf.to_latex(escape=False))\n",
    "\n",
    "\n",
    "kappa_stat =np.sum([confusion_tot[i,i] for i in range(confusion.shape[0]) ])/ np.sum(confusion_tot)\n",
    "print(\"kappa statistics = {:4.3f}\".format(kappa_stat))"
   ]
  },
  {
   "cell_type": "code",
   "execution_count": 59,
   "metadata": {},
   "outputs": [],
   "source": [
    "# down analysis\n",
    "df_hhsm['class'] = 3\n",
    "df_hhsm_test['class'] = 3\n",
    "df_kd['class'] = 4\n",
    "df_kd_test['class'] = 4\n",
    "\n",
    "channels = [df_hhsm, df_bbh, df_tth, df_bbxaa, df_kd]\n",
    "nchannels = len(channels)\n",
    "df_train = pd.concat(channels, ignore_index=True)\n",
    "df_train = df_train.sample(frac=1).reset_index(drop=True)"
   ]
  },
  {
   "cell_type": "code",
   "execution_count": 60,
   "metadata": {
    "pycharm": {
     "is_executing": false,
     "name": "#%%\n"
    }
   },
   "outputs": [
    {
     "name": "stdout",
     "output_type": "stream",
     "text": [
      "Accuracy Score: 71.90% \n"
     ]
    },
    {
     "data": {
      "image/png": "[encoded data removed]",
      "text/plain": [
       "<Figure size 360x360 with 1 Axes>"
      ]
     },
     "metadata": {
      "needs_background": "light"
     },
     "output_type": "display_data"
    }
   ],
   "source": [
    "class_names = [r'$bb\\gamma\\gamma$', r'$b\\bar{b}h$', r'$t\\bar{t}h$', r'$hh^{SM}$', r'$hh^{\\kappa_d}$']\n",
    "filename = 'models/HL-LHC-BDT/hbb-BDT-4class-tthfullW-hhsm-kd-1btag.pickle.dat' ## The pickle model store if necessary.\n",
    "shap_plot = '../plots/shap-bbxaa-bbh-tthfullW-hhsm-kd.pdf'\n",
    "\n",
    "classifier, x_test, y_test, shap_values_5, X_shap_5 = runBDT(df_train, filename)\n",
    "abs_shap(shap_values_5, X_shap_5, shap_plot, names=names, class_names=class_names, cmp=cmp_5)"
   ]
  },
  {
   "cell_type": "code",
   "execution_count": 61,
   "metadata": {
    "pycharm": {
     "is_executing": false,
     "name": "#%%\n"
    }
   },
   "outputs": [
    {
     "name": "stdout",
     "output_type": "stream",
     "text": [
      "Accuracy Score for kd: 35.75% \n",
      "Accuracy Score for hhsm: 54.53% \n",
      "Accuracy Score for tth: 88.44% \n",
      "Accuracy Score for bbh: 76.68% \n",
      "Accuracy Score for bbxaa: 77.56% \n"
     ]
    },
    {
     "data": {
      "image/png": "[encoded data removed]",
      "text/plain": [
       "<Figure size 432x288 with 1 Axes>"
      ]
     },
     "metadata": {
      "needs_background": "light"
     },
     "output_type": "display_data"
    }
   ],
   "source": [
    "disc = 4\n",
    "enc=1\n",
    "\n",
    "#ku_p = pd.DataFrame(classifier.predict_proba(df_ku_test.drop(columns=['class', 'weight']).values)[:,disc])\n",
    "#print('Accuracy Score for ku: {:4.2f}% '.format(100*metrics.accuracy_score(df_ku_test['class'].values, classifier.predict(df_ku_test.drop(columns=['class', 'weight']).values))))\n",
    "#ku_p['weight'] = df_ku_test['weight'].values\n",
    "\n",
    "kd_p = pd.DataFrame(classifier.predict_proba(df_kd_test.drop(columns=['class', 'weight']).values)[:,disc])\n",
    "print('Accuracy Score for kd: {:4.2f}% '.format(100*metrics.accuracy_score(df_kd_test['class'].values, classifier.predict(df_kd_test.drop(columns=['class', 'weight']).values))))\n",
    "kd_p['weight'] = df_kd_test['weight'].values\n",
    "\n",
    "hhsm_p = pd.DataFrame(classifier.predict_proba(df_hhsm_test.drop(columns=['class', 'weight']).values)[:,disc])\n",
    "print('Accuracy Score for hhsm: {:4.2f}% '.format(100*metrics.accuracy_score(df_hhsm_test['class'].values, classifier.predict(df_hhsm_test.drop(columns=['class', 'weight']).values))))\n",
    "hhsm_p['weight'] = df_hhsm_test['weight'].values\n",
    "\n",
    "tth_p = pd.DataFrame(classifier.predict_proba(df_tth_test.drop(columns=['class', 'weight']).values)[:,disc])\n",
    "print('Accuracy Score for tth: {:4.2f}% '.format(100*metrics.accuracy_score(df_tth_test['class'].values, classifier.predict(df_tth_test.drop(columns=['class', 'weight']).values))))\n",
    "tth_p['weight'] = df_tth_test['weight'].values\n",
    "\n",
    "bbh_p = pd.DataFrame(classifier.predict_proba(df_bbh_test.drop(columns=['class', 'weight']).values)[:,disc])\n",
    "print('Accuracy Score for bbh: {:4.2f}% '.format(100*metrics.accuracy_score(df_bbh_test['class'].values, classifier.predict(df_bbh_test.drop(columns=['class', 'weight']).values))))\n",
    "bbh_p['weight'] = df_bbh_test['weight'].values\n",
    "\n",
    "bbxaa_p = pd.DataFrame(classifier.predict_proba(df_bbxaa_test.drop(columns=['class', 'weight']).values)[:,disc])\n",
    "print('Accuracy Score for bbxaa: {:4.2f}% '.format(100*metrics.accuracy_score(df_bbxaa_test['class'].values, classifier.predict(df_bbxaa_test.drop(columns=['class', 'weight']).values))))\n",
    "bbxaa_p['weight'] = df_bbxaa_test['weight'].values\n",
    "\n",
    "kd_pred = kd_p.sample(n=round(weight_kd*1.28*enc), replace=True, random_state=seed).reset_index(drop=True)\n",
    "hhsm_pred = hhsm_p.sample(n=round(weight_hhsm*1.72*enc), replace=True, random_state=seed).reset_index(drop=True)\n",
    "tth_pred = tth_p.sample(n=round(weight_tth*1.2*enc), replace=True, random_state=seed).reset_index(drop=True)\n",
    "bbh_pred = bbh_p.sample(n=round(weight_bbh*enc), replace=True, random_state=seed).reset_index(drop=True)\n",
    "bbxaa_pred = bbxaa_p.sample(n=round(weight_bbxaa*1.5*enc), replace=True, random_state=seed).reset_index(drop=True)\n",
    "\n",
    "plt.figure(figsize=(6,4))\n",
    "ax = plt.gca()\n",
    "ax.set_prop_cycle(color=(col[0:5])[::-1])\n",
    "rc('text', usetex=True)\n",
    "plt.rcParams['text.latex.preamble'] = [r\"\\usepackage{amsmath}\"]\n",
    "sns.distplot(kd_pred[0], kde=False, bins=np.arange(0, 1 + 0.04, 0.04),\n",
    "             hist_kws={'alpha': 0.8, 'histtype': 'step', 'linewidth': 3, 'weights': [1/enc]*len(kd_pred[0])}, label=r'$hh^{\\kappa_d}$')\n",
    "sns.distplot(hhsm_pred[0], kde=False, bins=np.arange(0, 1 + 0.04, 0.04),\n",
    "             hist_kws={'alpha': 0.8, 'histtype': 'step', 'linewidth': 3, 'weights': [1/enc]*len(hhsm_pred[0])}, label=r'$hh^{SM}$')\n",
    "sns.distplot(tth_pred[0], kde=False, bins=np.arange(0, 1 + 0.04, 0.04),\n",
    "             hist_kws={'alpha': 0.8, 'histtype': 'step', 'linewidth': 3, 'weights': [1/enc]*len(tth_pred[0])}, label=r'$t\\bar{t}h$')\n",
    "sns.distplot(bbh_pred[0], kde=False, bins=np.arange(0, 1 + 0.04, 0.04),\n",
    "             hist_kws={'alpha': 0.8, 'histtype': 'step', 'linewidth': 3, 'weights': [1/enc]*len(bbh_pred[0])}, label=r'$b\\bar{b}h$')\n",
    "sns.distplot(bbxaa_pred[0], kde=False, bins=np.arange(0, 1 + 0.04, 0.04),\n",
    "             hist_kws={'alpha': 0.8, 'histtype': 'step', 'linewidth': 3, 'weights': [1/enc]*len(bbxaa_pred[0])}, label=r'$bb\\gamma\\gamma$')\n",
    "plt.legend(loc='upper center', fontsize=14)\n",
    "plt.grid(linestyle='dashed', alpha=0.4, color='#808080')\n",
    "\n",
    "ax.tick_params(axis='both', which='major', labelsize=14)\n",
    "plt.xlabel(r'$p(hh)$', fontsize=14)\n",
    "plt.ylabel(r'$N$', fontsize=14)\n",
    "plt.yscale('log')\n",
    "plt.tight_layout()\n",
    "plt.savefig('../plots/bbxaa-bbh-hhsm-Wfull-BDT-dist-kd.pdf', dpi=300)"
   ]
  },
  {
   "cell_type": "code",
   "execution_count": 62,
   "metadata": {},
   "outputs": [
    {
     "name": "stdout",
     "output_type": "stream",
     "text": [
      "sig: 3.69, ku events: 126, hhsm events: 41, tth events: 89, bbh events: 92, bbxaa events: 816\n",
      "sig: 4.20, ku events: 105, hhsm events: 156, tth events: 302, bbh events: 93, bbxaa events: 726\n",
      "sig: 58.33, ku events: 26, hhsm events: 38, tth events: 4125, bbh events: 76, bbxaa events: 735\n",
      "sig: 14.06, ku events: 87, hhsm events: 45, tth events: 123, bbh events: 2275, bbxaa events: 23655\n",
      "sig: 298.96, ku events: 12, hhsm events: 5, tth events: 24, bbh events: 432, bbxaa events: 89846\n"
     ]
    }
   ],
   "source": [
    "df_array = [df_bbxaa_test, df_bbh_test, df_tth_test, df_hhsm_test, df_kd_test]\n",
    "weight_array = [weight_bbxaa*1.5, weight_bbh, weight_tth*1.2, weight_hhsm*1.72, weight_kd*1.28]\n",
    "\n",
    "ps_exp_class = collections.Counter(classifier.predict(pd.concat([df_array[4].iloc[:,:-2].sample(n=round(weight_array[4]), random_state=seed, replace=True),\n",
    "                                                                 df_array[3].iloc[:,:-2].sample(n=round(weight_array[3]), random_state=seed, replace=True),\n",
    "                                                                 df_array[2].iloc[:,:-2].sample(n=round(weight_array[2]), random_state=seed, replace=True),\n",
    "                                                                 df_array[1].iloc[:,:-2].sample(n=round(weight_array[1]), random_state=seed, replace=True),\n",
    "                                                                 df_array[0].iloc[:,:-2].sample(n=round(weight_array[0]), random_state=seed, replace=True)]).values))\n",
    "\n",
    "nevents_kd, sig_kd = get_mclass(4, df_array, weight_array, ps_exp_class)\n",
    "nevents_hhsm, sig_hhsm = get_mclass(3, df_array, weight_array, ps_exp_class)\n",
    "nevents_tth, sig_tth = get_mclass(2, df_array, weight_array, ps_exp_class)\n",
    "nevents_bbh, sig_bbh = get_mclass(1, df_array, weight_array, ps_exp_class)\n",
    "nevents_bbxaa, sig_bbxaa = get_mclass(0, df_array, weight_array, ps_exp_class)\n",
    "confusion = np.column_stack((nevents_kd, nevents_hhsm, nevents_tth, nevents_bbh, nevents_bbxaa))"
   ]
  },
  {
   "cell_type": "code",
   "execution_count": null,
   "metadata": {},
   "outputs": [],
   "source": [
    "\n",
    "confusion_tot = np.round(np.array([confusion[4],confusion[3], confusion[2], confusion[1], confusion[0]])).astype(int)\n",
    "event_total = np.array([[np.sum(confusion_tot[i])] for i in range(confusion_tot.shape[0])])\n",
    "significance = np.append(np.array([np.abs(confusion_tot[i,i])/np.sqrt(np.sum(confusion_tot[:,i])) for i in range(confusion_tot.shape[0])]), 0)\n",
    "confusion_tab = np.vstack((np.append(confusion_tot, event_total, axis=1), significance))\n",
    "    \n",
    "df_conf = pd.DataFrame(confusion_tab, [r'$\\kappa_d$',r'$hh^{SM}$', r'$t\\bar{t}h$', r'$b\\bar{b}h$', r'$bb\\gamma\\gamma$', r'$\\sigma$'])\n",
    "df_conf.columns = [r'$\\kappa_d$',r'$hh^{SM}$', r'$t\\bar{t}h$', r'$b\\bar{b}h$', r'$bb\\gamma\\gamma$', 'total']\n",
    "print(df_conf.to_latex(escape=False))\n",
    "\n",
    "\n",
    "kappa_stat =np.sum([confusion_tot[i,i] for i in range(confusion.shape[0]) ])/ np.sum(confusion_tot)\n",
    "print(\"kappa statistics = {:4.3f}\".format(kappa_stat))"
   ]
  },
  {
   "cell_type": "code",
   "execution_count": 10,
   "metadata": {},
   "outputs": [
    {
     "name": "stdout",
     "output_type": "stream",
     "text": [
      "Accuracy Score: 73.10% \n"
     ]
    },
    {
     "data": {
      "image/png": "[encoded data removed]",
      "text/plain": [
       "<Figure size 360x360 with 1 Axes>"
      ]
     },
     "metadata": {
      "needs_background": "light"
     },
     "output_type": "display_data"
    }
   ],
   "source": [
    "# up analysis\n",
    "\n",
    "df_hhsm['class'] = 3\n",
    "df_hhsm_test['class'] = 3\n",
    "df_ku['class'] = 4\n",
    "df_ku_test['class'] = 4\n",
    "\n",
    "channels = [df_hhsm, df_bbh, df_tth, df_bbxaa, df_ku]\n",
    "nchannels = len(channels)\n",
    "df_train = pd.concat(channels, ignore_index=True)\n",
    "df_train = df_train.sample(frac=1).reset_index(drop=True)\n",
    "##########\n",
    "class_names = [r'$bb\\gamma\\gamma$', r'$b\\bar{b}h$', r'$t\\bar{t}h$', r'$hh^{SM}$', r'$hh^{\\kappa_u}$']\n",
    "filename = 'models/HL-LHC-BDT/hbb-BDT-4class-tthfullW-hhsm-ku-1btag.pickle.dat' ## The pickle model store if necessary.\n",
    "shap_plot = '../plots/shap-bbxaa-bbh-tthfullW-hhsm-ku.pdf'\n",
    "\n",
    "classifier, x_test, y_test, shap_values_5, X_shap_5 = runBDT(df_train, filename)\n",
    "abs_shap(shap_values_5, X_shap_5, shap_plot, names=names, class_names=class_names, cmp=cmp_5)"
   ]
  },
  {
   "cell_type": "code",
   "execution_count": null,
   "metadata": {},
   "outputs": [],
   "source": []
  },
  {
   "cell_type": "code",
   "execution_count": 11,
   "metadata": {},
   "outputs": [
    {
     "name": "stdout",
     "output_type": "stream",
     "text": [
      "Accuracy Score for ku: 42.10% \n",
      "Accuracy Score for hhsm: 55.18% \n",
      "Accuracy Score for tth: 88.77% \n",
      "Accuracy Score for bbh: 76.59% \n",
      "Accuracy Score for bbxaa: 78.68% \n"
     ]
    },
    {
     "data": {
      "image/png": "[encoded data removed]",
      "text/plain": [
       "<Figure size 432x288 with 1 Axes>"
      ]
     },
     "metadata": {
      "needs_background": "light"
     },
     "output_type": "display_data"
    }
   ],
   "source": [
    "disc = 4\n",
    "enc=1\n",
    "\n",
    "ku_p = pd.DataFrame(classifier.predict_proba(df_ku_test.drop(columns=['class', 'weight']).values)[:,disc])\n",
    "print('Accuracy Score for ku: {:4.2f}% '.format(100*metrics.accuracy_score(df_ku_test['class'].values, classifier.predict(df_ku_test.drop(columns=['class', 'weight']).values))))\n",
    "ku_p['weight'] = df_ku_test['weight'].values\n",
    "\n",
    "\n",
    "hhsm_p = pd.DataFrame(classifier.predict_proba(df_hhsm_test.drop(columns=['class', 'weight']).values)[:,disc])\n",
    "print('Accuracy Score for hhsm: {:4.2f}% '.format(100*metrics.accuracy_score(df_hhsm_test['class'].values, classifier.predict(df_hhsm_test.drop(columns=['class', 'weight']).values))))\n",
    "hhsm_p['weight'] = df_hhsm_test['weight'].values\n",
    "\n",
    "tth_p = pd.DataFrame(classifier.predict_proba(df_tth_test.drop(columns=['class', 'weight']).values)[:,disc])\n",
    "print('Accuracy Score for tth: {:4.2f}% '.format(100*metrics.accuracy_score(df_tth_test['class'].values, classifier.predict(df_tth_test.drop(columns=['class', 'weight']).values))))\n",
    "tth_p['weight'] = df_tth_test['weight'].values\n",
    "\n",
    "bbh_p = pd.DataFrame(classifier.predict_proba(df_bbh_test.drop(columns=['class', 'weight']).values)[:,disc])\n",
    "print('Accuracy Score for bbh: {:4.2f}% '.format(100*metrics.accuracy_score(df_bbh_test['class'].values, classifier.predict(df_bbh_test.drop(columns=['class', 'weight']).values))))\n",
    "bbh_p['weight'] = df_bbh_test['weight'].values\n",
    "\n",
    "bbxaa_p = pd.DataFrame(classifier.predict_proba(df_bbxaa_test.drop(columns=['class', 'weight']).values)[:,disc])\n",
    "print('Accuracy Score for bbxaa: {:4.2f}% '.format(100*metrics.accuracy_score(df_bbxaa_test['class'].values, classifier.predict(df_bbxaa_test.drop(columns=['class', 'weight']).values))))\n",
    "bbxaa_p['weight'] = df_bbxaa_test['weight'].values\n",
    "\n",
    "ku_pred = ku_p.sample(n=round(weight_ku*1.28*enc), replace=True, random_state=seed).reset_index(drop=True)\n",
    "hhsm_pred = hhsm_p.sample(n=round(weight_hhsm*1.72*enc), replace=True, random_state=seed).reset_index(drop=True)\n",
    "tth_pred = tth_p.sample(n=round(weight_tth*1.2*enc), replace=True, random_state=seed).reset_index(drop=True)\n",
    "bbh_pred = bbh_p.sample(n=round(weight_bbh*enc), replace=True, random_state=seed).reset_index(drop=True)\n",
    "bbxaa_pred = bbxaa_p.sample(n=round(weight_bbxaa*1.5*enc), replace=True, random_state=seed).reset_index(drop=True)\n",
    "\n",
    "plt.figure(figsize=(6,4))\n",
    "ax = plt.gca()\n",
    "ax.set_prop_cycle(color=(col[0:5])[::-1])\n",
    "rc('text', usetex=True)\n",
    "plt.rcParams['text.latex.preamble'] = [r\"\\usepackage{amsmath}\"]\n",
    "sns.distplot(ku_pred[0], kde=False, bins=np.arange(0, 1 + 0.04, 0.04),\n",
    "             hist_kws={'alpha': 0.8, 'histtype': 'step', 'linewidth': 3, 'weights': [1/enc]*len(ku_pred[0])}, label=r'$hh^{\\kappa_u}$')\n",
    "sns.distplot(hhsm_pred[0], kde=False, bins=np.arange(0, 1 + 0.04, 0.04),\n",
    "             hist_kws={'alpha': 0.8, 'histtype': 'step', 'linewidth': 3, 'weights': [1/enc]*len(hhsm_pred[0])}, label=r'$hh^{SM}$')\n",
    "sns.distplot(tth_pred[0], kde=False, bins=np.arange(0, 1 + 0.04, 0.04),\n",
    "             hist_kws={'alpha': 0.8, 'histtype': 'step', 'linewidth': 3, 'weights': [1/enc]*len(tth_pred[0])}, label=r'$t\\bar{t}h$')\n",
    "sns.distplot(bbh_pred[0], kde=False, bins=np.arange(0, 1 + 0.04, 0.04),\n",
    "             hist_kws={'alpha': 0.8, 'histtype': 'step', 'linewidth': 3, 'weights': [1/enc]*len(bbh_pred[0])}, label=r'$b\\bar{b}h$')\n",
    "sns.distplot(bbxaa_pred[0], kde=False, bins=np.arange(0, 1 + 0.04, 0.04),\n",
    "             hist_kws={'alpha': 0.8, 'histtype': 'step', 'linewidth': 3, 'weights': [1/enc]*len(bbxaa_pred[0])}, label=r'$bb\\gamma\\gamma$')\n",
    "plt.legend(loc='upper center', fontsize=14)\n",
    "plt.grid(linestyle='dashed', alpha=0.4, color='#808080')\n",
    "\n",
    "ax.tick_params(axis='both', which='major', labelsize=14)\n",
    "plt.xlabel(r'$p(hh)$', fontsize=14)\n",
    "plt.ylabel(r'$N$', fontsize=14)\n",
    "plt.yscale('log')\n",
    "plt.tight_layout()\n",
    "plt.savefig('../plots/bbxaa-bbh-hhsm-Wfull-BDT-dist-ku.pdf', dpi=300)"
   ]
  },
  {
   "cell_type": "code",
   "execution_count": 12,
   "metadata": {},
   "outputs": [
    {
     "name": "stdout",
     "output_type": "stream",
     "text": [
      "sig: 8.82, ku events: 301, hhsm events: 44, tth events: 92, bbh events: 86, bbxaa events: 642\n",
      "sig: 4.10, ku events: 196, hhsm events: 154, tth events: 276, bbh events: 85, bbxaa events: 703\n",
      "sig: 58.29, ku events: 50, hhsm events: 36, tth events: 4121, bbh events: 76, bbxaa events: 716\n",
      "sig: 14.37, ku events: 147, hhsm events: 42, tth events: 127, bbh events: 2285, bbxaa events: 22681\n",
      "sig: 300.94, ku events: 23, hhsm events: 5, tth events: 23, bbh events: 447, bbxaa events: 91058\n"
     ]
    }
   ],
   "source": [
    "df_array = [df_bbxaa_test, df_bbh_test, df_tth_test, df_hhsm_test, df_ku_test]\n",
    "weight_array = [weight_bbxaa*1.5, weight_bbh, weight_tth*1.2, weight_hhsm*1.72, weight_ku*1.28]\n",
    "\n",
    "ps_exp_class = collections.Counter(classifier.predict(pd.concat([df_array[4].iloc[:,:-2].sample(n=round(weight_array[4]), random_state=seed, replace=True),\n",
    "                                                                 df_array[3].iloc[:,:-2].sample(n=round(weight_array[3]), random_state=seed, replace=True),\n",
    "                                                                 df_array[2].iloc[:,:-2].sample(n=round(weight_array[2]), random_state=seed, replace=True),\n",
    "                                                                 df_array[1].iloc[:,:-2].sample(n=round(weight_array[1]), random_state=seed, replace=True),\n",
    "                                                                 df_array[0].iloc[:,:-2].sample(n=round(weight_array[0]), random_state=seed, replace=True)]).values))\n",
    "\n",
    "nevents_ku, sig_ku = get_mclass(4, df_array, weight_array, ps_exp_class)\n",
    "nevents_hhsm, sig_hhsm = get_mclass(3, df_array, weight_array, ps_exp_class)\n",
    "nevents_tth, sig_tth = get_mclass(2, df_array, weight_array, ps_exp_class)\n",
    "nevents_bbh, sig_bbh = get_mclass(1, df_array, weight_array, ps_exp_class)\n",
    "nevents_bbxaa, sig_bbxaa = get_mclass(0, df_array, weight_array, ps_exp_class)\n",
    "confusion = np.column_stack((nevents_ku, nevents_hhsm, nevents_tth, nevents_bbh, nevents_bbxaa))"
   ]
  },
  {
   "cell_type": "code",
   "execution_count": null,
   "metadata": {},
   "outputs": [],
   "source": [
    "kappa_stat =np.sum([confusion_tot[i,i] for i in range(confusion.shape[0]) ])/ np.sum(confusion_tot)\n",
    "print(\"kappa statistics = {:4.3f}\".format(kappa_stat))"
   ]
  },
  {
   "cell_type": "code",
   "execution_count": 8,
   "metadata": {},
   "outputs": [],
   "source": [
    "#k_lambda \n",
    "df_hhsm['class'] = 3\n",
    "df_hhsm_test['class'] = 3\n",
    "df_hhk8['class'] = 4\n",
    "df_hhk8_test['class'] = 4\n",
    "######\n",
    "channels = [df_hhk8,df_hhsm, df_bbh, df_tth, df_bbxaa]\n",
    "nchannels = len(channels)\n",
    "df_train = pd.concat(channels, ignore_index=True)\n",
    "df_train = df_train.sample(frac=1).reset_index(drop=True)"
   ]
  },
  {
   "cell_type": "code",
   "execution_count": 6,
   "metadata": {},
   "outputs": [
    {
     "name": "stdout",
     "output_type": "stream",
     "text": [
      "Accuracy Score: 71.37% \n"
     ]
    },
    {
     "data": {
      "image/png": "[encoded data removed]",
      "text/plain": [
       "<Figure size 360x360 with 1 Axes>"
      ]
     },
     "metadata": {
      "needs_background": "light"
     },
     "output_type": "display_data"
    }
   ],
   "source": [
    "class_names = [r'$bb\\gamma\\gamma$', r'$b\\bar{b}h$', r'$t\\bar{t}h$', r'$hh^{SM}$',r'$hh^{\\kappa_{\\lambda}=8.0}$']\n",
    "filename = 'models/HL-LHC-BDT/hbb-BDT-5class-hhsm-vshhkl8-fullW-1btag.pickle.dat' ## The pickle model store if necessary.\n",
    "shap_plot = '../plots/shap-bbxaa-bbh-tthfull-hhsm-kl8.pdf'\n",
    "classifier, x_test, y_test, shap_values_5, X_shap_5 = runBDT(df_train, filename)\n",
    "abs_shap(shap_values_5, X_shap_5, shap_plot, names=names, class_names=class_names, cmp=cmp_5)"
   ]
  },
  {
   "cell_type": "code",
   "execution_count": 12,
   "metadata": {},
   "outputs": [
    {
     "name": "stdout",
     "output_type": "stream",
     "text": [
      "Accuracy Score for ku: 32.87% \n",
      "Accuracy Score for hhsm: 51.49% \n",
      "Accuracy Score for tth: 87.97% \n",
      "Accuracy Score for bbh: 77.50% \n",
      "Accuracy Score for bbxaa: 78.66% \n"
     ]
    },
    {
     "data": {
      "image/png": "[encoded data removed]",
      "text/plain": [
       "<Figure size 432x288 with 1 Axes>"
      ]
     },
     "metadata": {
      "needs_background": "light"
     },
     "output_type": "display_data"
    }
   ],
   "source": [
    "disc = 4\n",
    "enc=1\n",
    "\n",
    "kl_p = pd.DataFrame(classifier.predict_proba(df_hhk8_test.drop(columns=['class', 'weight']).values)[:,disc])\n",
    "print('Accuracy Score for ku: {:4.2f}% '.format(100*metrics.accuracy_score(df_hhk8_test['class'].values, classifier.predict(df_hhk8_test.drop(columns=['class', 'weight']).values))))\n",
    "kl_p['weight'] = df_hhk8_test['weight'].values\n",
    "\n",
    "\n",
    "hhsm_p = pd.DataFrame(classifier.predict_proba(df_hhsm_test.drop(columns=['class', 'weight']).values)[:,disc])\n",
    "print('Accuracy Score for hhsm: {:4.2f}% '.format(100*metrics.accuracy_score(df_hhsm_test['class'].values, classifier.predict(df_hhsm_test.drop(columns=['class', 'weight']).values))))\n",
    "hhsm_p['weight'] = df_hhsm_test['weight'].values\n",
    "\n",
    "tth_p = pd.DataFrame(classifier.predict_proba(df_tth_test.drop(columns=['class', 'weight']).values)[:,disc])\n",
    "print('Accuracy Score for tth: {:4.2f}% '.format(100*metrics.accuracy_score(df_tth_test['class'].values, classifier.predict(df_tth_test.drop(columns=['class', 'weight']).values))))\n",
    "tth_p['weight'] = df_tth_test['weight'].values\n",
    "\n",
    "bbh_p = pd.DataFrame(classifier.predict_proba(df_bbh_test.drop(columns=['class', 'weight']).values)[:,disc])\n",
    "print('Accuracy Score for bbh: {:4.2f}% '.format(100*metrics.accuracy_score(df_bbh_test['class'].values, classifier.predict(df_bbh_test.drop(columns=['class', 'weight']).values))))\n",
    "bbh_p['weight'] = df_bbh_test['weight'].values\n",
    "\n",
    "bbxaa_p = pd.DataFrame(classifier.predict_proba(df_bbxaa_test.drop(columns=['class', 'weight']).values)[:,disc])\n",
    "print('Accuracy Score for bbxaa: {:4.2f}% '.format(100*metrics.accuracy_score(df_bbxaa_test['class'].values, classifier.predict(df_bbxaa_test.drop(columns=['class', 'weight']).values))))\n",
    "bbxaa_p['weight'] = df_bbxaa_test['weight'].values\n",
    "\n",
    "kl_pred = kl_p.sample(n=round(weight_hhk8*Kfac(8.0)/1.72*enc), replace=True, random_state=seed).reset_index(drop=True)\n",
    "hhsm_pred = hhsm_p.sample(n=round(weight_hhsm*1.72*enc), replace=True, random_state=seed).reset_index(drop=True)\n",
    "tth_pred = tth_p.sample(n=round(weight_tth*1.2*enc), replace=True, random_state=seed).reset_index(drop=True)\n",
    "bbh_pred = bbh_p.sample(n=round(weight_bbh*enc), replace=True, random_state=seed).reset_index(drop=True)\n",
    "bbxaa_pred = bbxaa_p.sample(n=round(weight_bbxaa*1.5*enc), replace=True, random_state=seed).reset_index(drop=True)\n",
    "\n",
    "plt.figure(figsize=(6,4))\n",
    "ax = plt.gca()\n",
    "ax.set_prop_cycle(color=(col[0:5])[::-1])\n",
    "rc('text', usetex=True)\n",
    "plt.rcParams['text.latex.preamble'] = [r\"\\usepackage{amsmath}\"]\n",
    "sns.distplot(kl_pred[0], kde=False, bins=np.arange(0, 1 + 0.04, 0.04),\n",
    "             hist_kws={'alpha': 0.8, 'histtype': 'step', 'linewidth': 3, 'weights': [1/enc]*len(kl_pred[0])}, label=r'$hh^{\\kappa_\\lambda =8.0}$')\n",
    "sns.distplot(hhsm_pred[0], kde=False, bins=np.arange(0, 1 + 0.04, 0.04),\n",
    "             hist_kws={'alpha': 0.8, 'histtype': 'step', 'linewidth': 3, 'weights': [1/enc]*len(hhsm_pred[0])}, label=r'$hh^{SM}$')\n",
    "sns.distplot(tth_pred[0], kde=False, bins=np.arange(0, 1 + 0.04, 0.04),\n",
    "             hist_kws={'alpha': 0.8, 'histtype': 'step', 'linewidth': 3, 'weights': [1/enc]*len(tth_pred[0])}, label=r'$t\\bar{t}h$')\n",
    "sns.distplot(bbh_pred[0], kde=False, bins=np.arange(0, 1 + 0.04, 0.04),\n",
    "             hist_kws={'alpha': 0.8, 'histtype': 'step', 'linewidth': 3, 'weights': [1/enc]*len(bbh_pred[0])}, label=r'$b\\bar{b}h$')\n",
    "sns.distplot(bbxaa_pred[0], kde=False, bins=np.arange(0, 1 + 0.04, 0.04),\n",
    "             hist_kws={'alpha': 0.8, 'histtype': 'step', 'linewidth': 3, 'weights': [1/enc]*len(bbxaa_pred[0])}, label=r'$bb\\gamma\\gamma$')\n",
    "plt.legend(loc='upper center', fontsize=14)\n",
    "plt.grid(linestyle='dashed', alpha=0.4, color='#808080')\n",
    "\n",
    "ax.tick_params(axis='both', which='major', labelsize=14)\n",
    "plt.xlabel(r'$p(hh)$', fontsize=14)\n",
    "plt.ylabel(r'$N$', fontsize=14)\n",
    "plt.yscale('log')\n",
    "plt.tight_layout()\n",
    "plt.savefig('../plots/bbxaa-bbh-hhsm-Wfull-BDT-dist-kl8.pdf', dpi=300)"
   ]
  },
  {
   "cell_type": "code",
   "execution_count": 14,
   "metadata": {},
   "outputs": [
    {
     "name": "stdout",
     "output_type": "stream",
     "text": [
      "sig: 17.78, ku events: 745, hhsm events: 56, tth events: 182, bbh events: 67, bbxaa events: 706\n",
      "sig: 3.39, ku events: 738, hhsm events: 145, tth events: 233, bbh events: 82, bbxaa events: 623\n",
      "sig: 56.49, ku events: 310, hhsm events: 33, tth events: 4087, bbh events: 73, bbxaa events: 732\n",
      "sig: 14.46, ku events: 375, hhsm events: 45, tth events: 124, bbh events: 2313, bbxaa events: 22749\n",
      "sig: 300.72, ku events: 55, hhsm events: 5, tth events: 22, bbh events: 447, bbxaa events: 90958\n"
     ]
    },
    {
     "ename": "NameError",
     "evalue": "name 'confusion_tot' is not defined",
     "output_type": "error",
     "traceback": [
      "\u001b[0;31m---------------------------------------------------------------------------\u001b[0m",
      "\u001b[0;31mNameError\u001b[0m                                 Traceback (most recent call last)",
      "\u001b[0;32m<ipython-input-14-923aa64b76b9>\u001b[0m in \u001b[0;36m<module>\u001b[0;34m\u001b[0m\n\u001b[1;32m     14\u001b[0m \u001b[0mnevents_bbxaa\u001b[0m\u001b[0;34m,\u001b[0m \u001b[0msig_bbxaa\u001b[0m \u001b[0;34m=\u001b[0m \u001b[0mget_mclass\u001b[0m\u001b[0;34m(\u001b[0m\u001b[0;36m0\u001b[0m\u001b[0;34m,\u001b[0m \u001b[0mdf_array\u001b[0m\u001b[0;34m,\u001b[0m \u001b[0mweight_array\u001b[0m\u001b[0;34m,\u001b[0m \u001b[0mps_exp_class\u001b[0m\u001b[0;34m)\u001b[0m\u001b[0;34m\u001b[0m\u001b[0;34m\u001b[0m\u001b[0m\n\u001b[1;32m     15\u001b[0m \u001b[0mconfusion\u001b[0m \u001b[0;34m=\u001b[0m \u001b[0mnp\u001b[0m\u001b[0;34m.\u001b[0m\u001b[0mcolumn_stack\u001b[0m\u001b[0;34m(\u001b[0m\u001b[0;34m(\u001b[0m\u001b[0mnevents_kl\u001b[0m\u001b[0;34m,\u001b[0m \u001b[0mnevents_hhsm\u001b[0m\u001b[0;34m,\u001b[0m \u001b[0mnevents_tth\u001b[0m\u001b[0;34m,\u001b[0m \u001b[0mnevents_bbh\u001b[0m\u001b[0;34m,\u001b[0m \u001b[0mnevents_bbxaa\u001b[0m\u001b[0;34m)\u001b[0m\u001b[0;34m)\u001b[0m\u001b[0;34m\u001b[0m\u001b[0;34m\u001b[0m\u001b[0m\n\u001b[0;32m---> 16\u001b[0;31m \u001b[0mkappa_stat\u001b[0m \u001b[0;34m=\u001b[0m\u001b[0mnp\u001b[0m\u001b[0;34m.\u001b[0m\u001b[0msum\u001b[0m\u001b[0;34m(\u001b[0m\u001b[0;34m[\u001b[0m\u001b[0mconfusion_tot\u001b[0m\u001b[0;34m[\u001b[0m\u001b[0mi\u001b[0m\u001b[0;34m,\u001b[0m\u001b[0mi\u001b[0m\u001b[0;34m]\u001b[0m \u001b[0;32mfor\u001b[0m \u001b[0mi\u001b[0m \u001b[0;32min\u001b[0m \u001b[0mrange\u001b[0m\u001b[0;34m(\u001b[0m\u001b[0mconfusion\u001b[0m\u001b[0;34m.\u001b[0m\u001b[0mshape\u001b[0m\u001b[0;34m[\u001b[0m\u001b[0;36m0\u001b[0m\u001b[0;34m]\u001b[0m\u001b[0;34m)\u001b[0m \u001b[0;34m]\u001b[0m\u001b[0;34m)\u001b[0m\u001b[0;34m/\u001b[0m \u001b[0mnp\u001b[0m\u001b[0;34m.\u001b[0m\u001b[0msum\u001b[0m\u001b[0;34m(\u001b[0m\u001b[0mconfusion_tot\u001b[0m\u001b[0;34m)\u001b[0m\u001b[0;34m\u001b[0m\u001b[0;34m\u001b[0m\u001b[0m\n\u001b[0m\u001b[1;32m     17\u001b[0m \u001b[0mprint\u001b[0m\u001b[0;34m(\u001b[0m\u001b[0;34m\"kappa statistics = {:4.3f}\"\u001b[0m\u001b[0;34m.\u001b[0m\u001b[0mformat\u001b[0m\u001b[0;34m(\u001b[0m\u001b[0mkappa_stat\u001b[0m\u001b[0;34m)\u001b[0m\u001b[0;34m)\u001b[0m\u001b[0;34m\u001b[0m\u001b[0;34m\u001b[0m\u001b[0m\n",
      "\u001b[0;32m<ipython-input-14-923aa64b76b9>\u001b[0m in \u001b[0;36m<listcomp>\u001b[0;34m(.0)\u001b[0m\n\u001b[1;32m     14\u001b[0m \u001b[0mnevents_bbxaa\u001b[0m\u001b[0;34m,\u001b[0m \u001b[0msig_bbxaa\u001b[0m \u001b[0;34m=\u001b[0m \u001b[0mget_mclass\u001b[0m\u001b[0;34m(\u001b[0m\u001b[0;36m0\u001b[0m\u001b[0;34m,\u001b[0m \u001b[0mdf_array\u001b[0m\u001b[0;34m,\u001b[0m \u001b[0mweight_array\u001b[0m\u001b[0;34m,\u001b[0m \u001b[0mps_exp_class\u001b[0m\u001b[0;34m)\u001b[0m\u001b[0;34m\u001b[0m\u001b[0;34m\u001b[0m\u001b[0m\n\u001b[1;32m     15\u001b[0m \u001b[0mconfusion\u001b[0m \u001b[0;34m=\u001b[0m \u001b[0mnp\u001b[0m\u001b[0;34m.\u001b[0m\u001b[0mcolumn_stack\u001b[0m\u001b[0;34m(\u001b[0m\u001b[0;34m(\u001b[0m\u001b[0mnevents_kl\u001b[0m\u001b[0;34m,\u001b[0m \u001b[0mnevents_hhsm\u001b[0m\u001b[0;34m,\u001b[0m \u001b[0mnevents_tth\u001b[0m\u001b[0;34m,\u001b[0m \u001b[0mnevents_bbh\u001b[0m\u001b[0;34m,\u001b[0m \u001b[0mnevents_bbxaa\u001b[0m\u001b[0;34m)\u001b[0m\u001b[0;34m)\u001b[0m\u001b[0;34m\u001b[0m\u001b[0;34m\u001b[0m\u001b[0m\n\u001b[0;32m---> 16\u001b[0;31m \u001b[0mkappa_stat\u001b[0m \u001b[0;34m=\u001b[0m\u001b[0mnp\u001b[0m\u001b[0;34m.\u001b[0m\u001b[0msum\u001b[0m\u001b[0;34m(\u001b[0m\u001b[0;34m[\u001b[0m\u001b[0mconfusion_tot\u001b[0m\u001b[0;34m[\u001b[0m\u001b[0mi\u001b[0m\u001b[0;34m,\u001b[0m\u001b[0mi\u001b[0m\u001b[0;34m]\u001b[0m \u001b[0;32mfor\u001b[0m \u001b[0mi\u001b[0m \u001b[0;32min\u001b[0m \u001b[0mrange\u001b[0m\u001b[0;34m(\u001b[0m\u001b[0mconfusion\u001b[0m\u001b[0;34m.\u001b[0m\u001b[0mshape\u001b[0m\u001b[0;34m[\u001b[0m\u001b[0;36m0\u001b[0m\u001b[0;34m]\u001b[0m\u001b[0;34m)\u001b[0m \u001b[0;34m]\u001b[0m\u001b[0;34m)\u001b[0m\u001b[0;34m/\u001b[0m \u001b[0mnp\u001b[0m\u001b[0;34m.\u001b[0m\u001b[0msum\u001b[0m\u001b[0;34m(\u001b[0m\u001b[0mconfusion_tot\u001b[0m\u001b[0;34m)\u001b[0m\u001b[0;34m\u001b[0m\u001b[0;34m\u001b[0m\u001b[0m\n\u001b[0m\u001b[1;32m     17\u001b[0m \u001b[0mprint\u001b[0m\u001b[0;34m(\u001b[0m\u001b[0;34m\"kappa statistics = {:4.3f}\"\u001b[0m\u001b[0;34m.\u001b[0m\u001b[0mformat\u001b[0m\u001b[0;34m(\u001b[0m\u001b[0mkappa_stat\u001b[0m\u001b[0;34m)\u001b[0m\u001b[0;34m)\u001b[0m\u001b[0;34m\u001b[0m\u001b[0;34m\u001b[0m\u001b[0m\n",
      "\u001b[0;31mNameError\u001b[0m: name 'confusion_tot' is not defined"
     ]
    }
   ],
   "source": [
    "df_array = [df_bbxaa_test, df_bbh_test, df_tth_test, df_hhsm_test, df_hhk8_test]\n",
    "weight_array = [weight_bbxaa*1.5, weight_bbh, weight_tth*1.2, weight_hhsm*1.72, weight_hhk8*Kfac(8.0)]\n",
    "\n",
    "ps_exp_class = collections.Counter(classifier.predict(pd.concat([df_array[4].iloc[:,:-2].sample(n=round(weight_array[4]), random_state=seed, replace=True),\n",
    "                                                                 df_array[3].iloc[:,:-2].sample(n=round(weight_array[3]), random_state=seed, replace=True),\n",
    "                                                                 df_array[2].iloc[:,:-2].sample(n=round(weight_array[2]), random_state=seed, replace=True),\n",
    "                                                                 df_array[1].iloc[:,:-2].sample(n=round(weight_array[1]), random_state=seed, replace=True),\n",
    "                                                                 df_array[0].iloc[:,:-2].sample(n=round(weight_array[0]), random_state=seed, replace=True)]).values))\n",
    "\n",
    "nevents_kl, sig_kl = get_mclass(4, df_array, weight_array, ps_exp_class)\n",
    "nevents_hhsm, sig_hhsm = get_mclass(3, df_array, weight_array, ps_exp_class)\n",
    "nevents_tth, sig_tth = get_mclass(2, df_array, weight_array, ps_exp_class)\n",
    "nevents_bbh, sig_bbh = get_mclass(1, df_array, weight_array, ps_exp_class)\n",
    "nevents_bbxaa, sig_bbxaa = get_mclass(0, df_array, weight_array, ps_exp_class)\n",
    "confusion = np.column_stack((nevents_kl, nevents_hhsm, nevents_tth, nevents_bbh, nevents_bbxaa))\n"
   ]
  },
  {
   "cell_type": "code",
   "execution_count": 16,
   "metadata": {},
   "outputs": [
    {
     "name": "stdout",
     "output_type": "stream",
     "text": [
      "\\begin{tabular}{lrrrrrr}\n",
      "\\toprule\n",
      "{} &  $\\kappa_d$ &   $hh^{SM}$ &  $t\\bar{t}h$ &   $b\\bar{b}h$ &  $bb\\gamma\\gamma$ &     total \\\\\n",
      "\\midrule\n",
      "$\\kappa_d$       &  745.000000 &  738.000000 &   310.000000 &    375.000000 &         55.000000 &    2223.0 \\\\\n",
      "$hh^{SM}$        &   56.000000 &  145.000000 &    33.000000 &     45.000000 &          5.000000 &     284.0 \\\\\n",
      "$t\\bar{t}h$      &  182.000000 &  233.000000 &  4087.000000 &    124.000000 &         22.000000 &    4648.0 \\\\\n",
      "$b\\bar{b}h$      &   67.000000 &   82.000000 &    73.000000 &   2313.000000 &        447.000000 &    2982.0 \\\\\n",
      "$bb\\gamma\\gamma$ &  706.000000 &  623.000000 &   732.000000 &  22749.000000 &      90958.000000 &  115768.0 \\\\\n",
      "$\\sigma$         &   17.778455 &    3.397919 &    56.486712 &     14.454556 &        300.719236 &       0.0 \\\\\n",
      "\\bottomrule\n",
      "\\end{tabular}\n",
      "\n",
      "kappa statistics = 0.780\n"
     ]
    }
   ],
   "source": [
    "\n",
    "confusion_tot = np.round(np.array([confusion[4],confusion[3], confusion[2], confusion[1], confusion[0]])).astype(int)\n",
    "event_total = np.array([[np.sum(confusion_tot[i])] for i in range(confusion_tot.shape[0])])\n",
    "significance = np.append(np.array([np.abs(confusion_tot[i,i])/np.sqrt(np.sum(confusion_tot[:,i])) for i in range(confusion_tot.shape[0])]), 0)\n",
    "confusion_tab = np.vstack((np.append(confusion_tot, event_total, axis=1), significance))\n",
    "    \n",
    "df_conf = pd.DataFrame(confusion_tab, [r'$\\kappa_d$',r'$hh^{SM}$', r'$t\\bar{t}h$', r'$b\\bar{b}h$', r'$bb\\gamma\\gamma$', r'$\\sigma$'])\n",
    "df_conf.columns = [r'$\\kappa_d$',r'$hh^{SM}$', r'$t\\bar{t}h$', r'$b\\bar{b}h$', r'$bb\\gamma\\gamma$', 'total']\n",
    "print(df_conf.to_latex(escape=False))\n",
    "\n",
    "\n",
    "kappa_stat =np.sum([confusion_tot[i,i] for i in range(confusion.shape[0]) ])/ np.sum(confusion_tot)\n",
    "print(\"kappa statistics = {:4.3f}\".format(kappa_stat))"
   ]
  },
  {
   "cell_type": "code",
   "execution_count": null,
   "metadata": {},
   "outputs": [],
   "source": []
  }
 ],
 "metadata": {
  "kernelspec": {
   "display_name": "Python 3",
   "language": "python",
   "name": "python3"
  },
  "language_info": {
   "codemirror_mode": {
    "name": "ipython",
    "version": 3
   },
   "file_extension": ".py",
   "mimetype": "text/x-python",
   "name": "python",
   "nbconvert_exporter": "python",
   "pygments_lexer": "ipython3",
   "version": "3.6.7"
  }
 },
 "nbformat": 4,
 "nbformat_minor": 4
}
